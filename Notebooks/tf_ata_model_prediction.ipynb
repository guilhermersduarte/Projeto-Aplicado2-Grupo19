{
 "cells": [
  {
   "cell_type": "code",
   "execution_count": 23,
   "id": "0b585923-1df0-4bb3-bd91-1e6a64063383",
   "metadata": {},
   "outputs": [],
   "source": [
    "import pickle\n",
    "import tensorflow as tf\n",
    "from tensorflow.keras.preprocessing.text import Tokenizer\n",
    "from tensorflow.keras.preprocessing.sequence import pad_sequences\n",
    "import pandas as pd\n",
    "import os\n",
    "\n",
    "\n",
    "token_count = 30000\n"
   ]
  },
  {
   "cell_type": "code",
   "execution_count": 13,
   "id": "0906e557-368f-4ad6-80a8-176ff4411e75",
   "metadata": {},
   "outputs": [
    {
     "name": "stdout",
     "output_type": "stream",
     "text": [
      "          Data                                              Texto  Selic  \\\n",
      "234 2025-05-07  a atualização da conjuntura econômica e do cen...  14.25   \n",
      "235 2025-06-18  a atualização da conjuntura econômica e do cen...  14.75   \n",
      "236 2025-07-30  a atualização da conjuntura econômica e do cen...  15.00   \n",
      "237 2025-09-17  a atualização da conjuntura econômica e do cen...  15.00   \n",
      "\n",
      "     IPCA  Selic (6m) Data (6m)  \n",
      "234  5.32         NaN       NaT  \n",
      "235  5.35         NaN       NaT  \n",
      "236  5.23         NaN       NaT  \n",
      "237  5.17         NaN       NaT  \n"
     ]
    }
   ],
   "source": [
    "input_data = pd.read_pickle('../dados/df_ata_sentimento_predict.pkl') \n",
    "#input_data = pd.read_json('../dados/df_ata_sentimento.json', orient='records', lines=True)\n",
    "#input_data['Data'] = pd.to_datetime(input_data['Data']).dt.date\n",
    "input_data['Texto'] = input_data['Texto'].str.lower()\n",
    "\n",
    "print(input_data)\n"
   ]
  },
  {
   "cell_type": "code",
   "execution_count": 25,
   "id": "4709d7ad-8c38-4e32-b99d-ed4dfe78b85b",
   "metadata": {},
   "outputs": [
    {
     "name": "stdout",
     "output_type": "stream",
     "text": [
      "a atualização da conjuntura econômica e do cenário do copom11 o ambiente externo mostrase adverso e \n"
     ]
    }
   ],
   "source": [
    "this_text = input_data.iloc[0,1]\n",
    "print(this_text[:100])\n"
   ]
  },
  {
   "cell_type": "raw",
   "id": "ada05afc-f26f-4e92-b49f-2df92b0d4855",
   "metadata": {},
   "source": [
    "../../gru_sentimento_6m__GRU_0601_modl_sent_encoded_180_mzt_220_B32_texveclayer_VOCAB.pkl\n",
    "../../gru_sentimento_6m__GRU_0601_modl_sent_encoded_180_mzt_220_B32_texveclayer_CONFIG.pkl\n",
    "../../gru_sentimento_6m__GRU_0601_modl_sent_encoded_180_mzt_220_B32_VECLYR_.keras"
   ]
  },
  {
   "cell_type": "code",
   "execution_count": 29,
   "id": "6e3a3b4a-2fa7-48b9-a8f9-7e0a6e4fbdae",
   "metadata": {},
   "outputs": [
    {
     "ename": "ValueError",
     "evalue": "Exception encountered when calling Sequential.call().\n\n\u001b[1mInvalid input shape for input Tensor(\"sequential_1/Cast:0\", shape=(1, 5), dtype=string). Expected shape (None,), but input has incompatible shape (1, 5)\u001b[0m\n\nArguments received by Sequential.call():\n  • inputs=tf.Tensor(shape=(1, 5), dtype=int64)\n  • training=False\n  • mask=None\n  • kwargs=<class 'inspect._empty'>",
     "output_type": "error",
     "traceback": [
      "\u001b[31m---------------------------------------------------------------------------\u001b[39m",
      "\u001b[31mValueError\u001b[39m                                Traceback (most recent call last)",
      "\u001b[36mCell\u001b[39m\u001b[36m \u001b[39m\u001b[32mIn[29]\u001b[39m\u001b[32m, line 22\u001b[39m\n\u001b[32m     19\u001b[39m vectorized_text = vectorizer(raw_text)\n\u001b[32m     21\u001b[39m \u001b[38;5;66;03m# Predict\u001b[39;00m\n\u001b[32m---> \u001b[39m\u001b[32m22\u001b[39m predictions = \u001b[43mmodel\u001b[49m\u001b[43m.\u001b[49m\u001b[43mpredict\u001b[49m\u001b[43m(\u001b[49m\u001b[43mvectorized_text\u001b[49m\u001b[43m)\u001b[49m\n\u001b[32m     23\u001b[39m predicted_classes = np.argmax(predictions, axis=\u001b[32m1\u001b[39m)\n\u001b[32m     24\u001b[39m \u001b[38;5;28mprint\u001b[39m(\u001b[33m\"\u001b[39m\u001b[33mPredicted classes:\u001b[39m\u001b[33m\"\u001b[39m, predicted_classes)\n",
      "\u001b[36mFile \u001b[39m\u001b[32m/opt/anaconda3/envs/tf2.20/lib/python3.12/site-packages/keras/src/utils/traceback_utils.py:122\u001b[39m, in \u001b[36mfilter_traceback.<locals>.error_handler\u001b[39m\u001b[34m(*args, **kwargs)\u001b[39m\n\u001b[32m    119\u001b[39m     filtered_tb = _process_traceback_frames(e.__traceback__)\n\u001b[32m    120\u001b[39m     \u001b[38;5;66;03m# To get the full stack trace, call:\u001b[39;00m\n\u001b[32m    121\u001b[39m     \u001b[38;5;66;03m# `keras.config.disable_traceback_filtering()`\u001b[39;00m\n\u001b[32m--> \u001b[39m\u001b[32m122\u001b[39m     \u001b[38;5;28;01mraise\u001b[39;00m e.with_traceback(filtered_tb) \u001b[38;5;28;01mfrom\u001b[39;00m\u001b[38;5;250m \u001b[39m\u001b[38;5;28;01mNone\u001b[39;00m\n\u001b[32m    123\u001b[39m \u001b[38;5;28;01mfinally\u001b[39;00m:\n\u001b[32m    124\u001b[39m     \u001b[38;5;28;01mdel\u001b[39;00m filtered_tb\n",
      "\u001b[36mFile \u001b[39m\u001b[32m/opt/anaconda3/envs/tf2.20/lib/python3.12/site-packages/keras/src/models/functional.py:276\u001b[39m, in \u001b[36mFunctional._adjust_input_rank\u001b[39m\u001b[34m(self, flat_inputs)\u001b[39m\n\u001b[32m    274\u001b[39m             adjusted.append(ops.expand_dims(x, axis=-\u001b[32m1\u001b[39m))\n\u001b[32m    275\u001b[39m             \u001b[38;5;28;01mcontinue\u001b[39;00m\n\u001b[32m--> \u001b[39m\u001b[32m276\u001b[39m     \u001b[38;5;28;01mraise\u001b[39;00m \u001b[38;5;167;01mValueError\u001b[39;00m(\n\u001b[32m    277\u001b[39m         \u001b[33mf\u001b[39m\u001b[33m\"\u001b[39m\u001b[33mInvalid input shape for input \u001b[39m\u001b[38;5;132;01m{\u001b[39;00mx\u001b[38;5;132;01m}\u001b[39;00m\u001b[33m. Expected shape \u001b[39m\u001b[33m\"\u001b[39m\n\u001b[32m    278\u001b[39m         \u001b[33mf\u001b[39m\u001b[33m\"\u001b[39m\u001b[38;5;132;01m{\u001b[39;00mref_shape\u001b[38;5;132;01m}\u001b[39;00m\u001b[33m, but input has incompatible shape \u001b[39m\u001b[38;5;132;01m{\u001b[39;00mx.shape\u001b[38;5;132;01m}\u001b[39;00m\u001b[33m\"\u001b[39m\n\u001b[32m    279\u001b[39m     )\n\u001b[32m    280\u001b[39m \u001b[38;5;66;03m# Add back metadata.\u001b[39;00m\n\u001b[32m    281\u001b[39m \u001b[38;5;28;01mfor\u001b[39;00m i \u001b[38;5;129;01min\u001b[39;00m \u001b[38;5;28mrange\u001b[39m(\u001b[38;5;28mlen\u001b[39m(flat_inputs)):\n",
      "\u001b[31mValueError\u001b[39m: Exception encountered when calling Sequential.call().\n\n\u001b[1mInvalid input shape for input Tensor(\"sequential_1/Cast:0\", shape=(1, 5), dtype=string). Expected shape (None,), but input has incompatible shape (1, 5)\u001b[0m\n\nArguments received by Sequential.call():\n  • inputs=tf.Tensor(shape=(1, 5), dtype=int64)\n  • training=False\n  • mask=None\n  • kwargs=<class 'inspect._empty'>"
     ]
    }
   ],
   "source": [
    "import tensorflow as tf\n",
    "import pickle\n",
    "import numpy as np\n",
    "\n",
    "# Load vectorizer\n",
    "with open('../../gru_sentimento_6m__GRU_0601_modl_sent_encoded_180_mzt_220_B32_texveclayer_CONFIG.pkl', 'rb') as f:\n",
    "    vectorizer_config = pickle.load(f)\n",
    "with open('../../gru_sentimento_6m__GRU_0601_modl_sent_encoded_180_mzt_220_B32_texveclayer_VOCAB.pkl', 'rb') as f:\n",
    "    vocab = pickle.load(f)\n",
    "\n",
    "vectorizer = tf.keras.layers.TextVectorization.from_config(vectorizer_config)\n",
    "vectorizer.set_vocabulary(vocab)\n",
    "\n",
    "# Load model\n",
    "model = tf.keras.models.load_model('../../gru_sentimento_6m__GRU_0601_modl_sent_encoded_180_mzt_220_B32_VECLYR_.keras')\n",
    "\n",
    "# Prepare input\n",
    "raw_text = tf.constant([\"Your sample text to predict\"], dtype=tf.string)\n",
    "vectorized_text = vectorizer(raw_text)\n",
    "\n",
    "# Predict\n",
    "predictions = model.predict(vectorized_text)\n",
    "predicted_classes = np.argmax(predictions, axis=1)\n",
    "print(\"Predicted classes:\", predicted_classes)"
   ]
  },
  {
   "cell_type": "code",
   "execution_count": 30,
   "id": "f326cd59-88d4-47d7-99fb-063128bd27b4",
   "metadata": {},
   "outputs": [
    {
     "name": "stdout",
     "output_type": "stream",
     "text": [
      "Nenhuma data futura encontrada ou erro no parsing.\n"
     ]
    }
   ],
   "source": []
  }
 ],
 "metadata": {
  "kernelspec": {
   "display_name": "Python 3 (ipykernel)",
   "language": "python",
   "name": "python3"
  },
  "language_info": {
   "codemirror_mode": {
    "name": "ipython",
    "version": 3
   },
   "file_extension": ".py",
   "mimetype": "text/x-python",
   "name": "python",
   "nbconvert_exporter": "python",
   "pygments_lexer": "ipython3",
   "version": "3.12.11"
  }
 },
 "nbformat": 4,
 "nbformat_minor": 5
}
