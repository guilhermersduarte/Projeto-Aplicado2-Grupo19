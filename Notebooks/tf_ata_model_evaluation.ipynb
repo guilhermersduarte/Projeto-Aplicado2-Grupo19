{
 "cells": [
  {
   "cell_type": "code",
   "execution_count": 14,
   "id": "0b585923-1df0-4bb3-bd91-1e6a64063383",
   "metadata": {},
   "outputs": [],
   "source": [
    "import numpy as np\n",
    "import tensorflow as tf\n",
    "from tensorflow.keras.models import load_model\n",
    "from sklearn.metrics import confusion_matrix, precision_score, classification_report\n",
    "import pandas as pd\n",
    "from sklearn.metrics import accuracy_score\n",
    "\n"
   ]
  },
  {
   "cell_type": "code",
   "execution_count": 8,
   "id": "c0431ba2-45e6-4b17-bd29-843cc63dbc61",
   "metadata": {},
   "outputs": [
    {
     "name": "stdout",
     "output_type": "stream",
     "text": [
      "[[   0    0    0 ...   31    3 3260]\n",
      " [   0    0    0 ... 2975    7   31]\n",
      " [   0    0    0 ...   10    4   16]\n",
      " [   0    0    0 ... 2192    5 2134]\n",
      " [   0    0    0 ...    8  949  316]]\n",
      "[0 0 1 0 1]\n"
     ]
    }
   ],
   "source": [
    "# Step 1: Load the saved .keras model\n",
    "model = load_model('../../sentimento_6m_sent_encoded_150_CHKP_drlee_ata.keras')  # Replace with your .keras model path\n",
    "\n",
    "X_test =  vector = np.load('../../subsets/sentimento_6m_sent_encoded_X_test.npy')\n",
    "y_test =  vector = np.load('../../subsets/sentimento_6m_sent_encoded_y_test.npy')\n",
    "\n",
    "print(X_test[:5])\n",
    "\n",
    "print(y_test[:5])\n"
   ]
  },
  {
   "cell_type": "code",
   "execution_count": 10,
   "id": "909ba9a7-a516-443f-8107-8983d8ddc67a",
   "metadata": {},
   "outputs": [
    {
     "name": "stdout",
     "output_type": "stream",
     "text": [
      "\u001b[1m2/2\u001b[0m \u001b[32m━━━━━━━━━━━━━━━━━━━━\u001b[0m\u001b[37m\u001b[0m \u001b[1m7s\u001b[0m 3s/step\n",
      "[[0.40447846 0.32418165 0.27133998]\n",
      " [0.4045722  0.3240037  0.27142408]\n",
      " [0.37892774 0.35864314 0.2624291 ]\n",
      " [0.3910396  0.34022042 0.2687399 ]\n",
      " [0.38917708 0.3459021  0.26492074]\n",
      " [0.38353723 0.35380536 0.2626574 ]\n",
      " [0.38014802 0.35880083 0.26105112]\n",
      " [0.384652   0.3481284  0.26721963]\n",
      " [0.3807857  0.35502505 0.2641892 ]\n",
      " [0.3801478  0.3588006  0.26105154]\n",
      " [0.385223   0.35260653 0.26217043]\n",
      " [0.38018844 0.35893017 0.26088142]\n",
      " [0.38665038 0.35031223 0.2630373 ]\n",
      " [0.38015598 0.3588017  0.26104227]\n",
      " [0.3881418  0.34907454 0.26278368]\n",
      " [0.39122656 0.33984616 0.2689273 ]\n",
      " [0.38736886 0.34579134 0.26683983]\n",
      " [0.38063738 0.3539211  0.26544154]\n",
      " [0.3934678  0.34363848 0.26289374]\n",
      " [0.38017562 0.35871315 0.2611112 ]\n",
      " [0.38508296 0.35177448 0.2631425 ]\n",
      " [0.38079426 0.35518894 0.2640168 ]\n",
      " [0.38569066 0.35075065 0.26355863]\n",
      " [0.3957254  0.33349466 0.2707799 ]\n",
      " [0.39005855 0.34167075 0.26827076]\n",
      " [0.39648625 0.33461362 0.26890007]\n",
      " [0.3801326  0.35877067 0.26109672]\n",
      " [0.3801762  0.35872802 0.26109582]\n",
      " [0.3802555  0.35893345 0.26081103]\n",
      " [0.38023368 0.35892245 0.26084387]\n",
      " [0.38637927 0.34980386 0.26381692]\n",
      " [0.39453235 0.34161887 0.26384875]\n",
      " [0.38015747 0.3586864  0.2611562 ]\n",
      " [0.38068172 0.35405377 0.26526457]\n",
      " [0.3883752  0.34968358 0.26194122]\n",
      " [0.38818112 0.3506315  0.26118731]\n",
      " [0.38379166 0.3546713  0.26153705]\n",
      " [0.38634244 0.35189828 0.2617594 ]\n",
      " [0.38382548 0.350695   0.26547948]\n",
      " [0.38068256 0.3541509  0.26516652]\n",
      " [0.3879442  0.34946692 0.26258886]\n",
      " [0.38721764 0.34894627 0.26383606]]\n",
      "[0 0 1 0 1 1 1 0 1 2 0 2 1 1 0 0 0 1 1 1 2 1 1 0 2 0 1 2 0 1 1 1 1 1 1 1 1\n",
      " 0 1 1 1 1]\n"
     ]
    }
   ],
   "source": [
    "predictions = model.predict(X_test)\n"
   ]
  },
  {
   "cell_type": "code",
   "execution_count": 11,
   "id": "47359586-777e-445e-b2d7-8f43d079cbab",
   "metadata": {},
   "outputs": [
    {
     "name": "stdout",
     "output_type": "stream",
     "text": [
      "[0 0 0 0 0 0 0 0 0 0 0 0 0 0 0 0 0 0 0 0 0 0 0 0 0 0 0 0 0 0 0 0 0 0 0 0 0\n",
      " 0 0 0 0 0]\n",
      "[0 0 1 0 1 1 1 0 1 2 0 2 1 1 0 0 0 1 1 1 2 1 1 0 2 0 1 2 0 1 1 1 1 1 1 1 1\n",
      " 0 1 1 1 1]\n"
     ]
    }
   ],
   "source": [
    "predicted_classes = np.argmax(predictions, axis=1)\n",
    "print(predicted_classes)\n",
    "print(y_test)"
   ]
  },
  {
   "cell_type": "code",
   "execution_count": 15,
   "id": "60fa3a5c-2005-4b48-9d83-d33239ee230e",
   "metadata": {},
   "outputs": [
    {
     "name": "stdout",
     "output_type": "stream",
     "text": [
      "Sample predicted classes: [0 0 0 0 0]\n",
      "Sample true classes: [0 0 1 0 1]\n",
      "Custom computed accuracy: 0.2857\n"
     ]
    }
   ],
   "source": [
    "\n",
    "\n",
    "# Step 3 (Optional): Process predictions based on task\n",
    "if len(predictions.shape) > 1 and predictions.shape[-1] > 1:  # Multi-class classification\n",
    "    predicted_classes = np.argmax(predictions, axis=1)\n",
    "    true_classes = np.argmax(y_test, axis=1) if len(y_test.shape) > 1 else y_test\n",
    "    print(\"Sample predicted classes:\", predicted_classes[:5])\n",
    "    print(\"Sample true classes:\", true_classes[:5])\n",
    "    # Optional: Verify accuracy matches evaluate\n",
    "    custom_accuracy = accuracy_score(true_classes, predicted_classes)\n",
    "    print(f\"Custom computed accuracy: {custom_accuracy:.4f}\")\n",
    "else:  # Regression or binary classification\n",
    "    predictions = predictions.flatten()  # Flatten if needed\n",
    "    print(\"Sample predictions:\", predictions[:5])\n",
    "    if y_test.shape[-1] == 1:  # Regression or binary classification\n",
    "        y_test = y_test.flatten()\n",
    "        mse = tf.keras.metrics.mean_squared_error(y_test, predictions).numpy()\n",
    "        print(f\"Mean Squared Error: {mse:.4f}\")"
   ]
  }
 ],
 "metadata": {
  "kernelspec": {
   "display_name": "Python 3 (ipykernel)",
   "language": "python",
   "name": "python3"
  },
  "language_info": {
   "codemirror_mode": {
    "name": "ipython",
    "version": 3
   },
   "file_extension": ".py",
   "mimetype": "text/x-python",
   "name": "python",
   "nbconvert_exporter": "python",
   "pygments_lexer": "ipython3",
   "version": "3.12.11"
  }
 },
 "nbformat": 4,
 "nbformat_minor": 5
}
