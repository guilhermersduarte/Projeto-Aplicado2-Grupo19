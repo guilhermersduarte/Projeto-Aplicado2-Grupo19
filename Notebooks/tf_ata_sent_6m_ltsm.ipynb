{
 "cells": [
  {
   "cell_type": "raw",
   "id": "2692405b-8e06-4a03-8e39-87752f0e7ccf",
   "metadata": {},
   "source": [
    "https://drlee.io/build-an-nlp-model-for-sentiment-analysis-using-tensorflow-in-10-minutes-a6d3de84b17f"
   ]
  },
  {
   "cell_type": "raw",
   "id": "4866584e-18eb-483d-a619-57a1629204c3",
   "metadata": {},
   "source": [
    "1. Carregando os dados de importados e tratados do BACEN"
   ]
  },
  {
   "cell_type": "code",
   "execution_count": 1,
   "id": "37b204ba-0bc9-417c-bb23-88db67a95d12",
   "metadata": {},
   "outputs": [
    {
     "data": {
      "text/html": [
       "<div>\n",
       "<style scoped>\n",
       "    .dataframe tbody tr th:only-of-type {\n",
       "        vertical-align: middle;\n",
       "    }\n",
       "\n",
       "    .dataframe tbody tr th {\n",
       "        vertical-align: top;\n",
       "    }\n",
       "\n",
       "    .dataframe thead th {\n",
       "        text-align: right;\n",
       "    }\n",
       "</style>\n",
       "<table border=\"1\" class=\"dataframe\">\n",
       "  <thead>\n",
       "    <tr style=\"text-align: right;\">\n",
       "      <th></th>\n",
       "      <th>Data</th>\n",
       "      <th>Texto</th>\n",
       "      <th>Selic</th>\n",
       "      <th>IPCA</th>\n",
       "      <th>Selic (6m)</th>\n",
       "      <th>Sentimento</th>\n",
       "    </tr>\n",
       "  </thead>\n",
       "  <tbody>\n",
       "    <tr>\n",
       "      <th>92</th>\n",
       "      <td>2007-07-18</td>\n",
       "      <td>sumário evolução recente da economia avaliação...</td>\n",
       "      <td>12.00</td>\n",
       "      <td>3.74</td>\n",
       "      <td>11.25</td>\n",
       "      <td>dovish</td>\n",
       "    </tr>\n",
       "    <tr>\n",
       "      <th>100</th>\n",
       "      <td>2008-07-23</td>\n",
       "      <td>sumário evolução recente da economia avaliação...</td>\n",
       "      <td>12.25</td>\n",
       "      <td>6.37</td>\n",
       "      <td>13.75</td>\n",
       "      <td>hawkish</td>\n",
       "    </tr>\n",
       "    <tr>\n",
       "      <th>150</th>\n",
       "      <td>2014-10-29</td>\n",
       "      <td>sumário evolução recente da economia avaliação...</td>\n",
       "      <td>11.00</td>\n",
       "      <td>6.59</td>\n",
       "      <td>12.75</td>\n",
       "      <td>hawkish</td>\n",
       "    </tr>\n",
       "    <tr>\n",
       "      <th>117</th>\n",
       "      <td>2010-09-01</td>\n",
       "      <td>sumário evolução recente da economia avaliação...</td>\n",
       "      <td>10.75</td>\n",
       "      <td>4.49</td>\n",
       "      <td>11.25</td>\n",
       "      <td>hawkish</td>\n",
       "    </tr>\n",
       "    <tr>\n",
       "      <th>28</th>\n",
       "      <td>2001-10-17</td>\n",
       "      <td>sumário atividade econômica ambiente externo p...</td>\n",
       "      <td>19.00</td>\n",
       "      <td>7.19</td>\n",
       "      <td>19.00</td>\n",
       "      <td>neutral</td>\n",
       "    </tr>\n",
       "  </tbody>\n",
       "</table>\n",
       "</div>"
      ],
      "text/plain": [
       "          Data                                              Texto  Selic  \\\n",
       "92  2007-07-18  sumário evolução recente da economia avaliação...  12.00   \n",
       "100 2008-07-23  sumário evolução recente da economia avaliação...  12.25   \n",
       "150 2014-10-29  sumário evolução recente da economia avaliação...  11.00   \n",
       "117 2010-09-01  sumário evolução recente da economia avaliação...  10.75   \n",
       "28  2001-10-17  sumário atividade econômica ambiente externo p...  19.00   \n",
       "\n",
       "     IPCA  Selic (6m) Sentimento  \n",
       "92   3.74       11.25     dovish  \n",
       "100  6.37       13.75    hawkish  \n",
       "150  6.59       12.75    hawkish  \n",
       "117  4.49       11.25    hawkish  \n",
       "28   7.19       19.00    neutral  "
      ]
     },
     "execution_count": 1,
     "metadata": {},
     "output_type": "execute_result"
    }
   ],
   "source": [
    "import numpy as np\n",
    "import pandas as pd\n",
    "import pickle\n",
    "import sys\n",
    "\n",
    "input_data = pd.read_pickle('../dados/df_ata_sentimento.pkl') \n",
    "#input_data = pd.read_json('../dados/df_ata_sentimento.json', orient='records', lines=True)\n",
    "#input_data['Data'] = pd.to_datetime(input_data['Data']).dt.date\n",
    "#input_data.tail()\n",
    "# A obtenção de dados da coluna Selic 6m dixa lacunas, limpar os dados:\n",
    "input_data = input_data.dropna(subset=['Sentimento','Texto'])\n",
    "input_data = input_data[~(input_data['Texto'].str.strip().isna() | (input_data['Texto'].str.strip() == ''))]\n",
    "input_data['Texto'] = input_data['Texto'].str.lower()\n",
    "\n",
    "input_data.sample(5)\n",
    "\n",
    "\n"
   ]
  },
  {
   "cell_type": "raw",
   "id": "6af8d23b-498f-4972-aa07-a711a8880ac7",
   "metadata": {},
   "source": [
    "2. Separando os dados de texto da ata e sentimento para o modelo."
   ]
  },
  {
   "cell_type": "code",
   "execution_count": 2,
   "id": "b6393318-ce7c-4a88-ae03-643f8a6e9ea2",
   "metadata": {},
   "outputs": [
    {
     "data": {
      "text/html": [
       "<div>\n",
       "<style scoped>\n",
       "    .dataframe tbody tr th:only-of-type {\n",
       "        vertical-align: middle;\n",
       "    }\n",
       "\n",
       "    .dataframe tbody tr th {\n",
       "        vertical-align: top;\n",
       "    }\n",
       "\n",
       "    .dataframe thead th {\n",
       "        text-align: right;\n",
       "    }\n",
       "</style>\n",
       "<table border=\"1\" class=\"dataframe\">\n",
       "  <thead>\n",
       "    <tr style=\"text-align: right;\">\n",
       "      <th></th>\n",
       "      <th>Texto</th>\n",
       "      <th>Sentimento</th>\n",
       "    </tr>\n",
       "  </thead>\n",
       "  <tbody>\n",
       "    <tr>\n",
       "      <th>150</th>\n",
       "      <td>sumário evolução recente da economia avaliação...</td>\n",
       "      <td>hawkish</td>\n",
       "    </tr>\n",
       "    <tr>\n",
       "      <th>42</th>\n",
       "      <td>sumário atividade econômica ambiente externo p...</td>\n",
       "      <td>hawkish</td>\n",
       "    </tr>\n",
       "    <tr>\n",
       "      <th>233</th>\n",
       "      <td>a atualização da conjuntura econômica e do cen...</td>\n",
       "      <td>hawkish</td>\n",
       "    </tr>\n",
       "    <tr>\n",
       "      <th>146</th>\n",
       "      <td>sumário evolução recente da economia avaliação...</td>\n",
       "      <td>hawkish</td>\n",
       "    </tr>\n",
       "    <tr>\n",
       "      <th>64</th>\n",
       "      <td>sumário evolução recente da inflação avaliação...</td>\n",
       "      <td>hawkish</td>\n",
       "    </tr>\n",
       "  </tbody>\n",
       "</table>\n",
       "</div>"
      ],
      "text/plain": [
       "                                                 Texto Sentimento\n",
       "150  sumário evolução recente da economia avaliação...    hawkish\n",
       "42   sumário atividade econômica ambiente externo p...    hawkish\n",
       "233  a atualização da conjuntura econômica e do cen...    hawkish\n",
       "146  sumário evolução recente da economia avaliação...    hawkish\n",
       "64   sumário evolução recente da inflação avaliação...    hawkish"
      ]
     },
     "execution_count": 2,
     "metadata": {},
     "output_type": "execute_result"
    }
   ],
   "source": [
    "base_data = input_data[['Texto','Sentimento']]\n",
    "base_data.sample(10)\n",
    "filename_root = 'sentimento_6m'\n",
    "subset_dir = '../../subsets/'\n",
    "basepickle = subset_dir + filename_root + '__base.pkl'\n",
    "base_data.to_pickle(basepickle)\n",
    "pd.read_pickle(basepickle).sample(5)\n"
   ]
  },
  {
   "cell_type": "raw",
   "id": "c70f52e4-6858-47c1-907a-7159d5932437",
   "metadata": {},
   "source": [
    "3. Preparando os rótulos para processamento. Produzindo dois tipos de rótulos para estudo, um hot encode con três clunad binárias para hdovish, awkish e neutral. Uma quarta coluna com um rótulo de 3 valores, 0,1 e 2\n",
    "0 = dovish\n",
    "1 = hawkisk\n",
    "2 = neutral"
   ]
  },
  {
   "cell_type": "code",
   "execution_count": 3,
   "id": "43bc8b0d-4886-4354-8717-42ac46c7f5ff",
   "metadata": {},
   "outputs": [
    {
     "name": "stdout",
     "output_type": "stream",
     "text": [
      "                                                  text     sent  sent_encoded  \\\n",
      "131  sumário evolução recente da economia avaliação...   dovish             0   \n",
      "135  sumário evolução recente da economia avaliação...  hawkish             1   \n",
      "122  sumário evolução recente da economia avaliação...  hawkish             1   \n",
      "72   sumário evolução recente da inflação avaliação...  hawkish             1   \n",
      "93   sumário evolução recente da economia avaliação...   dovish             0   \n",
      "\n",
      "     sent_dovish  sent_hawkish  sent_neutral  \n",
      "131         True         False         False  \n",
      "135        False          True         False  \n",
      "122        False          True         False  \n",
      "72         False          True         False  \n",
      "93          True         False         False  \n"
     ]
    }
   ],
   "source": [
    "from sklearn.preprocessing import LabelEncoder\n",
    "#tratamento dos dados para modelo\n",
    "training_data = base_data.copy()\n",
    "#Encoding do label alfanumérico\n",
    "label_encoder = LabelEncoder()\n",
    "training_data.loc[:, 'sent_encoded'] = label_encoder.fit_transform(training_data['Sentimento'])\n",
    "\n",
    "\n",
    "# Criando 3 colnuas com hot encoding\n",
    "one_hot = pd.get_dummies(training_data['Sentimento'], prefix='sent')\n",
    "training_data = pd.concat([training_data, one_hot], axis=1)\n",
    "\n",
    "# Renomeando colunas\n",
    "training_data = training_data.rename(columns={'Texto': 'text'})\n",
    "training_data = training_data.rename(columns={'Sentimento': 'sent'})\n",
    "\n",
    "# Display the result\n",
    "print(training_data.sample(5))\n",
    "\n"
   ]
  },
  {
   "cell_type": "raw",
   "id": "8913c914-df68-4ca4-b7c6-3d73e7ee5da5",
   "metadata": {},
   "source": [
    "4. Calculando o número total de palavras para tokenização"
   ]
  },
  {
   "cell_type": "code",
   "execution_count": 4,
   "id": "91cca182-22a4-4ea7-8eb5-c2195a689f17",
   "metadata": {},
   "outputs": [
    {
     "name": "stdout",
     "output_type": "stream",
     "text": [
      "Palavras únicas na base: 16738\n"
     ]
    }
   ],
   "source": [
    "# Concatenando todas as atas\n",
    "\n",
    "all_text = ' '.join(training_data['text'].tolist())\n",
    "\n",
    "words = pd.Series(all_text.split())\n",
    "\n",
    "# Contando as palavras únicas\n",
    "\n",
    "word_count = words.nunique()\n",
    "\n",
    "print(f\"Palavras únicas na base: {word_count}\")\n"
   ]
  },
  {
   "cell_type": "raw",
   "id": "b93ad943-ecac-4530-aecd-b437f3fa96ab",
   "metadata": {},
   "source": [
    "5. Variáveis globais - Escopo do modelo e dimensões\n",
    "Ainda não geramos um modelo com label con três valores, \n",
    "por enquanto modelando cada sentimento sepaeradamente"
   ]
  },
  {
   "cell_type": "code",
   "execution_count": 5,
   "id": "48f51760-c6a4-4d8c-a3ed-ecb41b59cd60",
   "metadata": {},
   "outputs": [],
   "source": [
    "\n",
    "# Switch de qual label vai ser estudado.\n",
    "label_set = 'sent_encoded'\n",
    "#label_set = 'sent_dovish'\n",
    "#label_set = 'sent_hawkish'\n",
    "#label_set = 'sent_neutral'\n",
    "\n",
    "#Globais de processsamento\n",
    "rnd_seed = 42\n",
    "num_epochs = 150\n",
    "num_batches = 16\n",
    "token_count = 30000\n",
    "padding_size = 80000\n",
    "val_split = 0.2\n"
   ]
  },
  {
   "cell_type": "raw",
   "id": "44c2109d-1eaa-4228-80b4-7917f8d99716",
   "metadata": {},
   "source": [
    "6. Preenchimento (padding) e tokenização"
   ]
  },
  {
   "cell_type": "code",
   "execution_count": 6,
   "id": "f0904049-51da-4abb-802b-08746c72c30a",
   "metadata": {},
   "outputs": [
    {
     "name": "stdout",
     "output_type": "stream",
     "text": [
      "[[   0    0    0 ... 2975    7   31]\n",
      " [   0    0    0 ... 2065    7   31]\n",
      " [   0    0    0 ... 2975    7   31]\n",
      " ...\n",
      " [   0    0    0 ...   10    4   16]\n",
      " [   0    0    0 ...   10    4   16]\n",
      " [   0    0    0 ...   10    4   16]]\n",
      "62.87 MB\n",
      "[   0    0    0 ... 2975    7   31]\n"
     ]
    }
   ],
   "source": [
    "from tensorflow.keras.preprocessing.text import Tokenizer\n",
    "from tensorflow.keras.preprocessing.sequence import pad_sequences\n",
    "\n",
    "# Tokenizando para 30000 palavras, o dobro do medido na base\n",
    "tokenizer = Tokenizer(num_words=token_count, oov_token='<OOV>')\n",
    "tokenizer.fit_on_texts(training_data['text'])\n",
    "\n",
    "# Save the tokenizer to a file\n",
    "\n",
    "token_filename = subset_dir + filename_root + '__tokenizer.pkl'\n",
    "\n",
    "with open(token_filename, 'wb') as file:\n",
    "    pickle.dump(tokenizer, file)\n",
    "\n",
    "# Preenchendo com 80000 caracterse, englobando o tamanho de todas as atas com alguma folga\n",
    "\n",
    "sequences = tokenizer.texts_to_sequences(training_data['text'])\n",
    "padded_sequences = pad_sequences(sequences, maxlen=padding_size)\n",
    "\n",
    "print(padded_sequences)\n",
    "\n",
    "print(\"{:.2f}\".format(sys.getsizeof(padded_sequences)/(1024*1024)),'MB')\n",
    "print(padded_sequences[0])"
   ]
  },
  {
   "cell_type": "code",
   "execution_count": null,
   "id": "c6f1b040-1979-44d7-ba10-2db7e295b891",
   "metadata": {},
   "outputs": [],
   "source": []
  },
  {
   "cell_type": "raw",
   "id": "f070af06-2db8-49c3-8550-b97a8e3b5d36",
   "metadata": {},
   "source": [
    "6. Separando a base em conjuntos de dados X e y"
   ]
  },
  {
   "cell_type": "code",
   "execution_count": 7,
   "id": "efe29b28-c529-4958-ba0a-6c3b4be8d213",
   "metadata": {},
   "outputs": [
    {
     "name": "stdout",
     "output_type": "stream",
     "text": [
      "[[   0    0    0 ... 2975    7   31]\n",
      " [   0    0    0 ... 2065    7   31]\n",
      " [   0    0    0 ... 2975    7   31]\n",
      " [   0    0    0 ... 2975    7   31]\n",
      " [   0    0    0 ... 2975    7   31]]\n",
      "[0 0 0 0 2]\n"
     ]
    }
   ],
   "source": [
    "\n",
    "\n",
    "# Splitting the data into features (X) and labels (y)\n",
    "X = padded_sequences\n",
    "y = training_data[label_set].values\n",
    "\n",
    "print(X[:5])\n",
    "print(y[:5])"
   ]
  },
  {
   "cell_type": "code",
   "execution_count": 8,
   "id": "3d6d8a61-3e5d-4196-a421-f92c1057f206",
   "metadata": {},
   "outputs": [],
   "source": [
    "#Salvando X e y completos para eventual uso\n",
    "X_filename = subset_dir + filename_root + '_' + label_set + '_X_full.npy'\n",
    "np.save(X_filename, X)\n",
    "\n",
    "y_filename = subset_dir + filename_root + '_' + label_set + '_y_full.npy'\n",
    "np.save(y_filename, y)\n",
    "\n"
   ]
  },
  {
   "cell_type": "raw",
   "id": "a20a8d5e-58a5-4c3e-87fd-3325f3da9fd3",
   "metadata": {},
   "source": [
    "7. Dividindo a base em conjunto de treino e de teste\n",
    "a base será dividida em 80% treino e 20% teste."
   ]
  },
  {
   "cell_type": "code",
   "execution_count": 9,
   "id": "21ea447a-c526-474e-bba9-2b17be0dae73",
   "metadata": {},
   "outputs": [
    {
     "name": "stdout",
     "output_type": "stream",
     "text": [
      "[[   0    0    0 ...   25  244  118]\n",
      " [   0    0    0 ...  213    5  229]\n",
      " [   0    0    0 ... 6293  401   93]\n",
      " [   0    0    0 ...    7  244  118]\n",
      " [   0    0    0 ...    7   86   64]]\n",
      "[[   0    0    0 ...   31    3 3260]\n",
      " [   0    0    0 ... 2975    7   31]\n",
      " [   0    0    0 ...   10    4   16]\n",
      " [   0    0    0 ... 2192    5 2134]\n",
      " [   0    0    0 ...    8  949  316]]\n",
      "[1 0 1 1 1]\n",
      "[0 0 1 0 1]\n"
     ]
    }
   ],
   "source": [
    "from sklearn.model_selection import train_test_split\n",
    "\n",
    "X_train, X_test, y_train, y_test = train_test_split(X, y, test_size=0.2, random_state=rnd_seed)\n",
    "\n",
    "#Salvando conjuntos de treino e teste para uso posterior\n",
    "\n",
    "X_test_filename = subset_dir + filename_root +  '_' + label_set + '_X_test.npy'\n",
    "np.save(X_test_filename, X_test)\n",
    "X_train_filename = subset_dir + filename_root +  '_' + label_set + '_X_train.npy'\n",
    "np.save(X_train_filename, X_train)\n",
    "\n",
    "y_test_filename = subset_dir + filename_root + '_' + label_set + '_y_test.npy'\n",
    "np.save(y_test_filename, y_test)\n",
    "y_train_filename = subset_dir + filename_root + '_' + label_set + '_y_train.npy'\n",
    "np.save(y_train_filename, y_train)\n",
    "\n",
    "print(X_train[:5])\n",
    "print(X_test[:5])\n",
    "print(y_train[:5])\n",
    "print(y_test[:5])\n",
    "\n"
   ]
  },
  {
   "cell_type": "raw",
   "id": "2e96134e-e5aa-4077-afff-40f66ef8936d",
   "metadata": {},
   "source": [
    "5. Building the Neural Network with TensorFlow\n",
    "We’ll create a simple neural network with an Embedding layer, followed by two LSTM layers, and a Dense output layer.\n",
    "\n",
    "Model Explanation\n",
    "\n",
    "Embedding Layer: Converts word indices into dense vectors of fixed size (16 dimensions).\n",
    "                                                                         \n",
    "LSTM Layers: These layers capture patterns in the text over sequences of words.b\n",
    "Dense Layer: Reduces the dimensionality of the features.\n",
    "    \n",
    "Output Layer: Uses the sigmoid activation function to predict the probability of being positive.\n"
   ]
  },
  {
   "cell_type": "code",
   "execution_count": 10,
   "id": "68c0087d-c26e-41d2-bfa3-4b98085e124a",
   "metadata": {},
   "outputs": [
    {
     "name": "stdout",
     "output_type": "stream",
     "text": [
      "Epoch 1/150\n",
      "\u001b[1m5/5\u001b[0m \u001b[32m━━━━━━━━━━━━━━━━━━━━\u001b[0m\u001b[37m\u001b[0m \u001b[1m1475s\u001b[0m 290s/step - accuracy: 0.3893 - loss: 1.0971 - val_accuracy: 0.4242 - val_loss: 1.0926\n",
      "Epoch 2/150\n",
      "\u001b[1m5/5\u001b[0m \u001b[32m━━━━━━━━━━━━━━━━━━━━\u001b[0m\u001b[37m\u001b[0m \u001b[1m1568s\u001b[0m 314s/step - accuracy: 0.5802 - loss: 1.0882 - val_accuracy: 0.5152 - val_loss: 1.0831\n",
      "Epoch 3/150\n",
      "\u001b[1m5/5\u001b[0m \u001b[32m━━━━━━━━━━━━━━━━━━━━\u001b[0m\u001b[37m\u001b[0m \u001b[1m1576s\u001b[0m 304s/step - accuracy: 0.4962 - loss: 1.0770 - val_accuracy: 0.5152 - val_loss: 1.0669\n",
      "Epoch 4/150\n",
      "\u001b[1m5/5\u001b[0m \u001b[32m━━━━━━━━━━━━━━━━━━━━\u001b[0m\u001b[37m\u001b[0m \u001b[1m1442s\u001b[0m 280s/step - accuracy: 0.4962 - loss: 1.0541 - val_accuracy: 0.5152 - val_loss: 1.0251\n",
      "Epoch 5/150\n",
      "\u001b[1m5/5\u001b[0m \u001b[32m━━━━━━━━━━━━━━━━━━━━\u001b[0m\u001b[37m\u001b[0m \u001b[1m1553s\u001b[0m 305s/step - accuracy: 0.4962 - loss: 0.9905 - val_accuracy: 0.5152 - val_loss: 0.9637\n",
      "Epoch 6/150\n",
      "\u001b[1m5/5\u001b[0m \u001b[32m━━━━━━━━━━━━━━━━━━━━\u001b[0m\u001b[37m\u001b[0m \u001b[1m1466s\u001b[0m 290s/step - accuracy: 0.4198 - loss: 0.9584 - val_accuracy: 0.4848 - val_loss: 0.9724\n",
      "Epoch 7/150\n",
      "\u001b[1m5/5\u001b[0m \u001b[32m━━━━━━━━━━━━━━━━━━━━\u001b[0m\u001b[37m\u001b[0m \u001b[1m1505s\u001b[0m 289s/step - accuracy: 0.6260 - loss: 0.9200 - val_accuracy: 0.5152 - val_loss: 0.9514\n",
      "Epoch 8/150\n",
      "\u001b[1m5/5\u001b[0m \u001b[32m━━━━━━━━━━━━━━━━━━━━\u001b[0m\u001b[37m\u001b[0m \u001b[1m1613s\u001b[0m 326s/step - accuracy: 0.4962 - loss: 0.9390 - val_accuracy: 0.5152 - val_loss: 0.9442\n",
      "Epoch 9/150\n",
      "\u001b[1m5/5\u001b[0m \u001b[32m━━━━━━━━━━━━━━━━━━━━\u001b[0m\u001b[37m\u001b[0m \u001b[1m1576s\u001b[0m 311s/step - accuracy: 0.5420 - loss: 0.8694 - val_accuracy: 0.6061 - val_loss: 0.9143\n",
      "Epoch 10/150\n",
      "\u001b[1m5/5\u001b[0m \u001b[32m━━━━━━━━━━━━━━━━━━━━\u001b[0m\u001b[37m\u001b[0m \u001b[1m1700s\u001b[0m 345s/step - accuracy: 0.7710 - loss: 0.8226 - val_accuracy: 0.5455 - val_loss: 0.9048\n",
      "Epoch 11/150\n",
      "\u001b[1m5/5\u001b[0m \u001b[32m━━━━━━━━━━━━━━━━━━━━\u001b[0m\u001b[37m\u001b[0m \u001b[1m1815s\u001b[0m 353s/step - accuracy: 0.7710 - loss: 0.7647 - val_accuracy: 0.6061 - val_loss: 0.8556\n",
      "Epoch 12/150\n",
      "\u001b[1m5/5\u001b[0m \u001b[32m━━━━━━━━━━━━━━━━━━━━\u001b[0m\u001b[37m\u001b[0m \u001b[1m1825s\u001b[0m 361s/step - accuracy: 0.8015 - loss: 0.6505 - val_accuracy: 0.6364 - val_loss: 0.8226\n",
      "Epoch 13/150\n",
      "\u001b[1m5/5\u001b[0m \u001b[32m━━━━━━━━━━━━━━━━━━━━\u001b[0m\u001b[37m\u001b[0m \u001b[1m1757s\u001b[0m 342s/step - accuracy: 0.7863 - loss: 0.6106 - val_accuracy: 0.6970 - val_loss: 0.7172\n",
      "Epoch 14/150\n",
      "\u001b[1m5/5\u001b[0m \u001b[32m━━━━━━━━━━━━━━━━━━━━\u001b[0m\u001b[37m\u001b[0m \u001b[1m1683s\u001b[0m 324s/step - accuracy: 0.8168 - loss: 0.5586 - val_accuracy: 0.6970 - val_loss: 0.6983\n",
      "Epoch 15/150\n",
      "\u001b[1m5/5\u001b[0m \u001b[32m━━━━━━━━━━━━━━━━━━━━\u001b[0m\u001b[37m\u001b[0m \u001b[1m1571s\u001b[0m 300s/step - accuracy: 0.8397 - loss: 0.4940 - val_accuracy: 0.6364 - val_loss: 0.8148\n",
      "Epoch 16/150\n",
      "\u001b[1m5/5\u001b[0m \u001b[32m━━━━━━━━━━━━━━━━━━━━\u001b[0m\u001b[37m\u001b[0m \u001b[1m1668s\u001b[0m 330s/step - accuracy: 0.7863 - loss: 0.5391 - val_accuracy: 0.7273 - val_loss: 0.7035\n",
      "Epoch 17/150\n",
      "\u001b[1m5/5\u001b[0m \u001b[32m━━━━━━━━━━━━━━━━━━━━\u001b[0m\u001b[37m\u001b[0m \u001b[1m1768s\u001b[0m 340s/step - accuracy: 0.8092 - loss: 0.5153 - val_accuracy: 0.6061 - val_loss: 0.8611\n",
      "Epoch 18/150\n",
      "\u001b[1m5/5\u001b[0m \u001b[32m━━━━━━━━━━━━━━━━━━━━\u001b[0m\u001b[37m\u001b[0m \u001b[1m1824s\u001b[0m 354s/step - accuracy: 0.7939 - loss: 0.4891 - val_accuracy: 0.6970 - val_loss: 0.7202\n",
      "Epoch 19/150\n",
      "\u001b[1m5/5\u001b[0m \u001b[32m━━━━━━━━━━━━━━━━━━━━\u001b[0m\u001b[37m\u001b[0m \u001b[1m1747s\u001b[0m 335s/step - accuracy: 0.8244 - loss: 0.4685 - val_accuracy: 0.6970 - val_loss: 0.6826\n",
      "Epoch 20/150\n",
      "\u001b[1m5/5\u001b[0m \u001b[32m━━━━━━━━━━━━━━━━━━━━\u001b[0m\u001b[37m\u001b[0m \u001b[1m1770s\u001b[0m 349s/step - accuracy: 0.8702 - loss: 0.3963 - val_accuracy: 0.7273 - val_loss: 0.7539\n",
      "Epoch 21/150\n",
      "\u001b[1m5/5\u001b[0m \u001b[32m━━━━━━━━━━━━━━━━━━━━\u001b[0m\u001b[37m\u001b[0m \u001b[1m1804s\u001b[0m 349s/step - accuracy: 0.8626 - loss: 0.3664 - val_accuracy: 0.8182 - val_loss: 0.5933\n",
      "Epoch 22/150\n",
      "\u001b[1m5/5\u001b[0m \u001b[32m━━━━━━━━━━━━━━━━━━━━\u001b[0m\u001b[37m\u001b[0m \u001b[1m1791s\u001b[0m 347s/step - accuracy: 0.8626 - loss: 0.3274 - val_accuracy: 0.7576 - val_loss: 0.6371\n",
      "Epoch 23/150\n",
      "\u001b[1m5/5\u001b[0m \u001b[32m━━━━━━━━━━━━━━━━━━━━\u001b[0m\u001b[37m\u001b[0m \u001b[1m1763s\u001b[0m 339s/step - accuracy: 0.8779 - loss: 0.2865 - val_accuracy: 0.7576 - val_loss: 0.6274\n",
      "Epoch 24/150\n",
      "\u001b[1m5/5\u001b[0m \u001b[32m━━━━━━━━━━━━━━━━━━━━\u001b[0m\u001b[37m\u001b[0m \u001b[1m1782s\u001b[0m 348s/step - accuracy: 0.8779 - loss: 0.2689 - val_accuracy: 0.7879 - val_loss: 0.6229\n",
      "Epoch 25/150\n",
      "\u001b[1m5/5\u001b[0m \u001b[32m━━━━━━━━━━━━━━━━━━━━\u001b[0m\u001b[37m\u001b[0m \u001b[1m1768s\u001b[0m 346s/step - accuracy: 0.8855 - loss: 0.2617 - val_accuracy: 0.7879 - val_loss: 0.6604\n",
      "Epoch 26/150\n",
      "\u001b[1m5/5\u001b[0m \u001b[32m━━━━━━━━━━━━━━━━━━━━\u001b[0m\u001b[37m\u001b[0m \u001b[1m1661s\u001b[0m 315s/step - accuracy: 0.9084 - loss: 0.2198 - val_accuracy: 0.7879 - val_loss: 0.6764\n",
      "Epoch 27/150\n",
      "\u001b[1m5/5\u001b[0m \u001b[32m━━━━━━━━━━━━━━━━━━━━\u001b[0m\u001b[37m\u001b[0m \u001b[1m1626s\u001b[0m 313s/step - accuracy: 0.8931 - loss: 0.2149 - val_accuracy: 0.7879 - val_loss: 0.6335\n",
      "Epoch 28/150\n",
      "\u001b[1m5/5\u001b[0m \u001b[32m━━━━━━━━━━━━━━━━━━━━\u001b[0m\u001b[37m\u001b[0m \u001b[1m1633s\u001b[0m 322s/step - accuracy: 0.9160 - loss: 0.1867 - val_accuracy: 0.6970 - val_loss: 0.7771\n",
      "Epoch 29/150\n",
      "\u001b[1m5/5\u001b[0m \u001b[32m━━━━━━━━━━━━━━━━━━━━\u001b[0m\u001b[37m\u001b[0m \u001b[1m1655s\u001b[0m 317s/step - accuracy: 0.9237 - loss: 0.1751 - val_accuracy: 0.8182 - val_loss: 0.5684\n",
      "Epoch 30/150\n",
      "\u001b[1m5/5\u001b[0m \u001b[32m━━━━━━━━━━━━━━━━━━━━\u001b[0m\u001b[37m\u001b[0m \u001b[1m1599s\u001b[0m 318s/step - accuracy: 0.9389 - loss: 0.1565 - val_accuracy: 0.8485 - val_loss: 0.6250\n",
      "Epoch 31/150\n",
      "\u001b[1m5/5\u001b[0m \u001b[32m━━━━━━━━━━━━━━━━━━━━\u001b[0m\u001b[37m\u001b[0m \u001b[1m1637s\u001b[0m 316s/step - accuracy: 0.9542 - loss: 0.1663 - val_accuracy: 0.8485 - val_loss: 0.5592\n",
      "Epoch 32/150\n",
      "\u001b[1m5/5\u001b[0m \u001b[32m━━━━━━━━━━━━━━━━━━━━\u001b[0m\u001b[37m\u001b[0m \u001b[1m1619s\u001b[0m 311s/step - accuracy: 0.9771 - loss: 0.1643 - val_accuracy: 0.7879 - val_loss: 0.6731\n",
      "Epoch 33/150\n",
      "\u001b[1m5/5\u001b[0m \u001b[32m━━━━━━━━━━━━━━━━━━━━\u001b[0m\u001b[37m\u001b[0m \u001b[1m1637s\u001b[0m 314s/step - accuracy: 0.9771 - loss: 0.1497 - val_accuracy: 0.8182 - val_loss: 0.7612\n",
      "Epoch 34/150\n",
      "\u001b[1m5/5\u001b[0m \u001b[32m━━━━━━━━━━━━━━━━━━━━\u001b[0m\u001b[37m\u001b[0m \u001b[1m1578s\u001b[0m 300s/step - accuracy: 0.9771 - loss: 0.1233 - val_accuracy: 0.8182 - val_loss: 0.8593\n",
      "Epoch 35/150\n",
      "\u001b[1m5/5\u001b[0m \u001b[32m━━━━━━━━━━━━━━━━━━━━\u001b[0m\u001b[37m\u001b[0m \u001b[1m1605s\u001b[0m 308s/step - accuracy: 0.9771 - loss: 0.1083 - val_accuracy: 0.8182 - val_loss: 0.8743\n",
      "Epoch 36/150\n",
      "\u001b[1m5/5\u001b[0m \u001b[32m━━━━━━━━━━━━━━━━━━━━\u001b[0m\u001b[37m\u001b[0m \u001b[1m1447s\u001b[0m 286s/step - accuracy: 0.9771 - loss: 0.0943 - val_accuracy: 0.8182 - val_loss: 0.8816\n",
      "Epoch 37/150\n",
      "\u001b[1m5/5\u001b[0m \u001b[32m━━━━━━━━━━━━━━━━━━━━\u001b[0m\u001b[37m\u001b[0m \u001b[1m1554s\u001b[0m 298s/step - accuracy: 0.9771 - loss: 0.0956 - val_accuracy: 0.8182 - val_loss: 0.9160\n",
      "Epoch 38/150\n",
      "\u001b[1m5/5\u001b[0m \u001b[32m━━━━━━━━━━━━━━━━━━━━\u001b[0m\u001b[37m\u001b[0m \u001b[1m1597s\u001b[0m 306s/step - accuracy: 0.9008 - loss: 0.2201 - val_accuracy: 0.6970 - val_loss: 1.2011\n",
      "Epoch 39/150\n",
      "\u001b[1m5/5\u001b[0m \u001b[32m━━━━━━━━━━━━━━━━━━━━\u001b[0m\u001b[37m\u001b[0m \u001b[1m1479s\u001b[0m 289s/step - accuracy: 0.9389 - loss: 0.2215 - val_accuracy: 0.7576 - val_loss: 0.7920\n",
      "Epoch 40/150\n",
      "\u001b[1m5/5\u001b[0m \u001b[32m━━━━━━━━━━━━━━━━━━━━\u001b[0m\u001b[37m\u001b[0m \u001b[1m1483s\u001b[0m 293s/step - accuracy: 0.9313 - loss: 0.2441 - val_accuracy: 0.7576 - val_loss: 0.7014\n",
      "Epoch 41/150\n",
      "\u001b[1m5/5\u001b[0m \u001b[32m━━━━━━━━━━━━━━━━━━━━\u001b[0m\u001b[37m\u001b[0m \u001b[1m1562s\u001b[0m 312s/step - accuracy: 0.9389 - loss: 0.1835 - val_accuracy: 0.7879 - val_loss: 0.5836\n",
      "Epoch 42/150\n",
      "\u001b[1m5/5\u001b[0m \u001b[32m━━━━━━━━━━━━━━━━━━━━\u001b[0m\u001b[37m\u001b[0m \u001b[1m1471s\u001b[0m 290s/step - accuracy: 0.9695 - loss: 0.1248 - val_accuracy: 0.8182 - val_loss: 0.5988\n",
      "Epoch 43/150\n",
      "\u001b[1m5/5\u001b[0m \u001b[32m━━━━━━━━━━━━━━━━━━━━\u001b[0m\u001b[37m\u001b[0m \u001b[1m1632s\u001b[0m 319s/step - accuracy: 0.9695 - loss: 0.1260 - val_accuracy: 0.8182 - val_loss: 0.6847\n",
      "Epoch 44/150\n",
      "\u001b[1m5/5\u001b[0m \u001b[32m━━━━━━━━━━━━━━━━━━━━\u001b[0m\u001b[37m\u001b[0m \u001b[1m1690s\u001b[0m 331s/step - accuracy: 0.9466 - loss: 0.2122 - val_accuracy: 0.6970 - val_loss: 1.1577\n",
      "Epoch 45/150\n",
      "\u001b[1m5/5\u001b[0m \u001b[32m━━━━━━━━━━━━━━━━━━━━\u001b[0m\u001b[37m\u001b[0m \u001b[1m1546s\u001b[0m 294s/step - accuracy: 0.9313 - loss: 0.2112 - val_accuracy: 0.7576 - val_loss: 0.8747\n",
      "Epoch 46/150\n",
      "\u001b[1m5/5\u001b[0m \u001b[32m━━━━━━━━━━━━━━━━━━━━\u001b[0m\u001b[37m\u001b[0m \u001b[1m1480s\u001b[0m 289s/step - accuracy: 0.9466 - loss: 0.1678 - val_accuracy: 0.7879 - val_loss: 0.8460\n",
      "Epoch 47/150\n",
      "\u001b[1m5/5\u001b[0m \u001b[32m━━━━━━━━━━━━━━━━━━━━\u001b[0m\u001b[37m\u001b[0m \u001b[1m1568s\u001b[0m 309s/step - accuracy: 0.9695 - loss: 0.1182 - val_accuracy: 0.7273 - val_loss: 0.8369\n",
      "Epoch 48/150\n",
      "\u001b[1m5/5\u001b[0m \u001b[32m━━━━━━━━━━━━━━━━━━━━\u001b[0m\u001b[37m\u001b[0m \u001b[1m1588s\u001b[0m 311s/step - accuracy: 0.9695 - loss: 0.0995 - val_accuracy: 0.7576 - val_loss: 0.9160\n",
      "Epoch 49/150\n",
      "\u001b[1m5/5\u001b[0m \u001b[32m━━━━━━━━━━━━━━━━━━━━\u001b[0m\u001b[37m\u001b[0m \u001b[1m1646s\u001b[0m 319s/step - accuracy: 0.9847 - loss: 0.0757 - val_accuracy: 0.7576 - val_loss: 0.9227\n",
      "Epoch 50/150\n",
      "\u001b[1m5/5\u001b[0m \u001b[32m━━━━━━━━━━━━━━━━━━━━\u001b[0m\u001b[37m\u001b[0m \u001b[1m1871s\u001b[0m 386s/step - accuracy: 0.9847 - loss: 0.0667 - val_accuracy: 0.7576 - val_loss: 0.9189\n",
      "Epoch 51/150\n",
      "\u001b[1m5/5\u001b[0m \u001b[32m━━━━━━━━━━━━━━━━━━━━\u001b[0m\u001b[37m\u001b[0m \u001b[1m2160s\u001b[0m 429s/step - accuracy: 0.9847 - loss: 0.0602 - val_accuracy: 0.7879 - val_loss: 0.9432\n",
      "Epoch 52/150\n",
      "\u001b[1m5/5\u001b[0m \u001b[32m━━━━━━━━━━━━━━━━━━━━\u001b[0m\u001b[37m\u001b[0m \u001b[1m2250s\u001b[0m 444s/step - accuracy: 0.9847 - loss: 0.0585 - val_accuracy: 0.7879 - val_loss: 0.9218\n",
      "Epoch 53/150\n",
      "\u001b[1m5/5\u001b[0m \u001b[32m━━━━━━━━━━━━━━━━━━━━\u001b[0m\u001b[37m\u001b[0m \u001b[1m2303s\u001b[0m 448s/step - accuracy: 0.9847 - loss: 0.0600 - val_accuracy: 0.8182 - val_loss: 0.8030\n",
      "Epoch 54/150\n",
      "\u001b[1m5/5\u001b[0m \u001b[32m━━━━━━━━━━━━━━━━━━━━\u001b[0m\u001b[37m\u001b[0m \u001b[1m2187s\u001b[0m 424s/step - accuracy: 0.9542 - loss: 0.0850 - val_accuracy: 0.8182 - val_loss: 0.7350\n",
      "Epoch 55/150\n",
      "\u001b[1m5/5\u001b[0m \u001b[32m━━━━━━━━━━━━━━━━━━━━\u001b[0m\u001b[37m\u001b[0m \u001b[1m1942s\u001b[0m 361s/step - accuracy: 0.9847 - loss: 0.0657 - val_accuracy: 0.8182 - val_loss: 0.7222\n",
      "Epoch 56/150\n",
      "\u001b[1m5/5\u001b[0m \u001b[32m━━━━━━━━━━━━━━━━━━━━\u001b[0m\u001b[37m\u001b[0m \u001b[1m1795s\u001b[0m 351s/step - accuracy: 0.9847 - loss: 0.0644 - val_accuracy: 0.8182 - val_loss: 0.7287\n",
      "Epoch 57/150\n",
      "\u001b[1m5/5\u001b[0m \u001b[32m━━━━━━━━━━━━━━━━━━━━\u001b[0m\u001b[37m\u001b[0m \u001b[1m1737s\u001b[0m 332s/step - accuracy: 0.9771 - loss: 0.0805 - val_accuracy: 0.7879 - val_loss: 0.8411\n",
      "Epoch 58/150\n",
      "\u001b[1m5/5\u001b[0m \u001b[32m━━━━━━━━━━━━━━━━━━━━\u001b[0m\u001b[37m\u001b[0m \u001b[1m1647s\u001b[0m 318s/step - accuracy: 0.9771 - loss: 0.0778 - val_accuracy: 0.7879 - val_loss: 0.9131\n",
      "Epoch 59/150\n",
      "\u001b[1m5/5\u001b[0m \u001b[32m━━━━━━━━━━━━━━━━━━━━\u001b[0m\u001b[37m\u001b[0m \u001b[1m1640s\u001b[0m 314s/step - accuracy: 0.9771 - loss: 0.0744 - val_accuracy: 0.7879 - val_loss: 0.9651\n",
      "Epoch 60/150\n",
      "\u001b[1m5/5\u001b[0m \u001b[32m━━━━━━━━━━━━━━━━━━━━\u001b[0m\u001b[37m\u001b[0m \u001b[1m1688s\u001b[0m 331s/step - accuracy: 0.9847 - loss: 0.0524 - val_accuracy: 0.7879 - val_loss: 0.9946\n",
      "Epoch 61/150\n",
      "\u001b[1m5/5\u001b[0m \u001b[32m━━━━━━━━━━━━━━━━━━━━\u001b[0m\u001b[37m\u001b[0m \u001b[1m1670s\u001b[0m 325s/step - accuracy: 0.9847 - loss: 0.0521 - val_accuracy: 0.7879 - val_loss: 1.0310\n",
      "Epoch 62/150\n",
      "\u001b[1m5/5\u001b[0m \u001b[32m━━━━━━━━━━━━━━━━━━━━\u001b[0m\u001b[37m\u001b[0m \u001b[1m1617s\u001b[0m 325s/step - accuracy: 0.9847 - loss: 0.0511 - val_accuracy: 0.7576 - val_loss: 1.0997\n",
      "Epoch 63/150\n",
      "\u001b[1m5/5\u001b[0m \u001b[32m━━━━━━━━━━━━━━━━━━━━\u001b[0m\u001b[37m\u001b[0m \u001b[1m1683s\u001b[0m 325s/step - accuracy: 0.9771 - loss: 0.0707 - val_accuracy: 0.7576 - val_loss: 1.1309\n",
      "Epoch 64/150\n",
      "\u001b[1m5/5\u001b[0m \u001b[32m━━━━━━━━━━━━━━━━━━━━\u001b[0m\u001b[37m\u001b[0m \u001b[1m1637s\u001b[0m 313s/step - accuracy: 0.9771 - loss: 0.0709 - val_accuracy: 0.7576 - val_loss: 1.1347\n",
      "Epoch 65/150\n",
      "\u001b[1m5/5\u001b[0m \u001b[32m━━━━━━━━━━━━━━━━━━━━\u001b[0m\u001b[37m\u001b[0m \u001b[1m1666s\u001b[0m 323s/step - accuracy: 0.9771 - loss: 0.0689 - val_accuracy: 0.7576 - val_loss: 1.1612\n",
      "Epoch 66/150\n",
      "\u001b[1m5/5\u001b[0m \u001b[32m━━━━━━━━━━━━━━━━━━━━\u001b[0m\u001b[37m\u001b[0m \u001b[1m1643s\u001b[0m 315s/step - accuracy: 0.9771 - loss: 0.0664 - val_accuracy: 0.7879 - val_loss: 1.0882\n",
      "Epoch 67/150\n",
      "\u001b[1m5/5\u001b[0m \u001b[32m━━━━━━━━━━━━━━━━━━━━\u001b[0m\u001b[37m\u001b[0m \u001b[1m1750s\u001b[0m 342s/step - accuracy: 0.9847 - loss: 0.0683 - val_accuracy: 0.7879 - val_loss: 1.0685\n",
      "Epoch 68/150\n",
      "\u001b[1m5/5\u001b[0m \u001b[32m━━━━━━━━━━━━━━━━━━━━\u001b[0m\u001b[37m\u001b[0m \u001b[1m2155s\u001b[0m 421s/step - accuracy: 0.9695 - loss: 0.0714 - val_accuracy: 0.7879 - val_loss: 1.0355\n",
      "Epoch 69/150\n",
      "\u001b[1m5/5\u001b[0m \u001b[32m━━━━━━━━━━━━━━━━━━━━\u001b[0m\u001b[37m\u001b[0m \u001b[1m2124s\u001b[0m 414s/step - accuracy: 0.9847 - loss: 0.0595 - val_accuracy: 0.7879 - val_loss: 1.0055\n",
      "Epoch 70/150\n",
      "\u001b[1m5/5\u001b[0m \u001b[32m━━━━━━━━━━━━━━━━━━━━\u001b[0m\u001b[37m\u001b[0m \u001b[1m2169s\u001b[0m 430s/step - accuracy: 0.9847 - loss: 0.0513 - val_accuracy: 0.7879 - val_loss: 0.9533\n",
      "Epoch 71/150\n",
      "\u001b[1m5/5\u001b[0m \u001b[32m━━━━━━━━━━━━━━━━━━━━\u001b[0m\u001b[37m\u001b[0m \u001b[1m2128s\u001b[0m 416s/step - accuracy: 0.9847 - loss: 0.0470 - val_accuracy: 0.7879 - val_loss: 0.9170\n",
      "Epoch 72/150\n",
      "\u001b[1m5/5\u001b[0m \u001b[32m━━━━━━━━━━━━━━━━━━━━\u001b[0m\u001b[37m\u001b[0m \u001b[1m2166s\u001b[0m 422s/step - accuracy: 0.9847 - loss: 0.0484 - val_accuracy: 0.7576 - val_loss: 0.9135\n",
      "Epoch 73/150\n",
      "\u001b[1m5/5\u001b[0m \u001b[32m━━━━━━━━━━━━━━━━━━━━\u001b[0m\u001b[37m\u001b[0m \u001b[1m1762s\u001b[0m 338s/step - accuracy: 0.9847 - loss: 0.0463 - val_accuracy: 0.7879 - val_loss: 0.8453\n",
      "Epoch 74/150\n",
      "\u001b[1m5/5\u001b[0m \u001b[32m━━━━━━━━━━━━━━━━━━━━\u001b[0m\u001b[37m\u001b[0m \u001b[1m1738s\u001b[0m 330s/step - accuracy: 0.9847 - loss: 0.0449 - val_accuracy: 0.7879 - val_loss: 0.8814\n",
      "Epoch 75/150\n",
      "\u001b[1m5/5\u001b[0m \u001b[32m━━━━━━━━━━━━━━━━━━━━\u001b[0m\u001b[37m\u001b[0m \u001b[1m1574s\u001b[0m 299s/step - accuracy: 0.9847 - loss: 0.0461 - val_accuracy: 0.7879 - val_loss: 0.8957\n",
      "Epoch 76/150\n",
      "\u001b[1m5/5\u001b[0m \u001b[32m━━━━━━━━━━━━━━━━━━━━\u001b[0m\u001b[37m\u001b[0m \u001b[1m1635s\u001b[0m 319s/step - accuracy: 0.9847 - loss: 0.0464 - val_accuracy: 0.7576 - val_loss: 0.9444\n",
      "Epoch 77/150\n",
      "\u001b[1m5/5\u001b[0m \u001b[32m━━━━━━━━━━━━━━━━━━━━\u001b[0m\u001b[37m\u001b[0m \u001b[1m1656s\u001b[0m 320s/step - accuracy: 0.9847 - loss: 0.0454 - val_accuracy: 0.7576 - val_loss: 0.9706\n",
      "Epoch 78/150\n",
      "\u001b[1m5/5\u001b[0m \u001b[32m━━━━━━━━━━━━━━━━━━━━\u001b[0m\u001b[37m\u001b[0m \u001b[1m1669s\u001b[0m 322s/step - accuracy: 0.9847 - loss: 0.0426 - val_accuracy: 0.7879 - val_loss: 0.9515\n",
      "Epoch 79/150\n",
      "\u001b[1m5/5\u001b[0m \u001b[32m━━━━━━━━━━━━━━━━━━━━\u001b[0m\u001b[37m\u001b[0m \u001b[1m1669s\u001b[0m 324s/step - accuracy: 0.9847 - loss: 0.0425 - val_accuracy: 0.7879 - val_loss: 0.9752\n",
      "Epoch 80/150\n",
      "\u001b[1m5/5\u001b[0m \u001b[32m━━━━━━━━━━━━━━━━━━━━\u001b[0m\u001b[37m\u001b[0m \u001b[1m1622s\u001b[0m 324s/step - accuracy: 0.9847 - loss: 0.0441 - val_accuracy: 0.7576 - val_loss: 1.0647\n",
      "Epoch 81/150\n",
      "\u001b[1m5/5\u001b[0m \u001b[32m━━━━━━━━━━━━━━━━━━━━\u001b[0m\u001b[37m\u001b[0m \u001b[1m1694s\u001b[0m 329s/step - accuracy: 0.9847 - loss: 0.0415 - val_accuracy: 0.7576 - val_loss: 1.0853\n",
      "Epoch 82/150\n",
      "\u001b[1m5/5\u001b[0m \u001b[32m━━━━━━━━━━━━━━━━━━━━\u001b[0m\u001b[37m\u001b[0m \u001b[1m1667s\u001b[0m 322s/step - accuracy: 0.9847 - loss: 0.0402 - val_accuracy: 0.7576 - val_loss: 1.0946\n",
      "Epoch 83/150\n",
      "\u001b[1m5/5\u001b[0m \u001b[32m━━━━━━━━━━━━━━━━━━━━\u001b[0m\u001b[37m\u001b[0m \u001b[1m1986s\u001b[0m 405s/step - accuracy: 0.9924 - loss: 0.0394 - val_accuracy: 0.7879 - val_loss: 0.9986\n",
      "Epoch 84/150\n",
      "\u001b[1m5/5\u001b[0m \u001b[32m━━━━━━━━━━━━━━━━━━━━\u001b[0m\u001b[37m\u001b[0m \u001b[1m2106s\u001b[0m 407s/step - accuracy: 0.9847 - loss: 0.0492 - val_accuracy: 0.7879 - val_loss: 1.1705\n",
      "Epoch 85/150\n",
      "\u001b[1m5/5\u001b[0m \u001b[32m━━━━━━━━━━━━━━━━━━━━\u001b[0m\u001b[37m\u001b[0m \u001b[1m2105s\u001b[0m 407s/step - accuracy: 0.9847 - loss: 0.0609 - val_accuracy: 0.7879 - val_loss: 1.0554\n",
      "Epoch 86/150\n",
      "\u001b[1m5/5\u001b[0m \u001b[32m━━━━━━━━━━━━━━━━━━━━\u001b[0m\u001b[37m\u001b[0m \u001b[1m1752s\u001b[0m 338s/step - accuracy: 0.9847 - loss: 0.0553 - val_accuracy: 0.7273 - val_loss: 1.2401\n",
      "Epoch 87/150\n",
      "\u001b[1m5/5\u001b[0m \u001b[32m━━━━━━━━━━━━━━━━━━━━\u001b[0m\u001b[37m\u001b[0m \u001b[1m1772s\u001b[0m 342s/step - accuracy: 0.9847 - loss: 0.0529 - val_accuracy: 0.7273 - val_loss: 1.2603\n",
      "Epoch 88/150\n",
      "\u001b[1m5/5\u001b[0m \u001b[32m━━━━━━━━━━━━━━━━━━━━\u001b[0m\u001b[37m\u001b[0m \u001b[1m1656s\u001b[0m 319s/step - accuracy: 0.9771 - loss: 0.0704 - val_accuracy: 0.7273 - val_loss: 1.2609\n",
      "Epoch 89/150\n",
      "\u001b[1m5/5\u001b[0m \u001b[32m━━━━━━━━━━━━━━━━━━━━\u001b[0m\u001b[37m\u001b[0m \u001b[1m1725s\u001b[0m 335s/step - accuracy: 0.9771 - loss: 0.0677 - val_accuracy: 0.7273 - val_loss: 1.2276\n",
      "Epoch 90/150\n",
      "\u001b[1m5/5\u001b[0m \u001b[32m━━━━━━━━━━━━━━━━━━━━\u001b[0m\u001b[37m\u001b[0m \u001b[1m1611s\u001b[0m 312s/step - accuracy: 0.9771 - loss: 0.0597 - val_accuracy: 0.7273 - val_loss: 1.2000\n",
      "Epoch 91/150\n",
      "\u001b[1m5/5\u001b[0m \u001b[32m━━━━━━━━━━━━━━━━━━━━\u001b[0m\u001b[37m\u001b[0m \u001b[1m1626s\u001b[0m 329s/step - accuracy: 0.9771 - loss: 0.0600 - val_accuracy: 0.7576 - val_loss: 1.1839\n",
      "Epoch 92/150\n",
      "\u001b[1m5/5\u001b[0m \u001b[32m━━━━━━━━━━━━━━━━━━━━\u001b[0m\u001b[37m\u001b[0m \u001b[1m1675s\u001b[0m 325s/step - accuracy: 0.9771 - loss: 0.0700 - val_accuracy: 0.7576 - val_loss: 1.1743\n",
      "Epoch 93/150\n",
      "\u001b[1m5/5\u001b[0m \u001b[32m━━━━━━━━━━━━━━━━━━━━\u001b[0m\u001b[37m\u001b[0m \u001b[1m1690s\u001b[0m 331s/step - accuracy: 0.9847 - loss: 0.0509 - val_accuracy: 0.7576 - val_loss: 1.1842\n",
      "Epoch 94/150\n",
      "\u001b[1m5/5\u001b[0m \u001b[32m━━━━━━━━━━━━━━━━━━━━\u001b[0m\u001b[37m\u001b[0m \u001b[1m1714s\u001b[0m 332s/step - accuracy: 0.9847 - loss: 0.0477 - val_accuracy: 0.7576 - val_loss: 1.2007\n",
      "Epoch 95/150\n",
      "\u001b[1m5/5\u001b[0m \u001b[32m━━━━━━━━━━━━━━━━━━━━\u001b[0m\u001b[37m\u001b[0m \u001b[1m1737s\u001b[0m 334s/step - accuracy: 0.9847 - loss: 0.0475 - val_accuracy: 0.7576 - val_loss: 1.2140\n",
      "Epoch 96/150\n",
      "\u001b[1m5/5\u001b[0m \u001b[32m━━━━━━━━━━━━━━━━━━━━\u001b[0m\u001b[37m\u001b[0m \u001b[1m1664s\u001b[0m 326s/step - accuracy: 0.9847 - loss: 0.0475 - val_accuracy: 0.7576 - val_loss: 1.2169\n",
      "Epoch 97/150\n",
      "\u001b[1m5/5\u001b[0m \u001b[32m━━━━━━━━━━━━━━━━━━━━\u001b[0m\u001b[37m\u001b[0m \u001b[1m1696s\u001b[0m 328s/step - accuracy: 0.9847 - loss: 0.0471 - val_accuracy: 0.7576 - val_loss: 1.2204\n",
      "Epoch 98/150\n",
      "\u001b[1m5/5\u001b[0m \u001b[32m━━━━━━━━━━━━━━━━━━━━\u001b[0m\u001b[37m\u001b[0m \u001b[1m1706s\u001b[0m 328s/step - accuracy: 0.9847 - loss: 0.0458 - val_accuracy: 0.7576 - val_loss: 1.2187\n",
      "Epoch 99/150\n",
      "\u001b[1m5/5\u001b[0m \u001b[32m━━━━━━━━━━━━━━━━━━━━\u001b[0m\u001b[37m\u001b[0m \u001b[1m1698s\u001b[0m 334s/step - accuracy: 0.9847 - loss: 0.0450 - val_accuracy: 0.7576 - val_loss: 1.2149\n",
      "Epoch 100/150\n",
      "\u001b[1m5/5\u001b[0m \u001b[32m━━━━━━━━━━━━━━━━━━━━\u001b[0m\u001b[37m\u001b[0m \u001b[1m1760s\u001b[0m 345s/step - accuracy: 0.9847 - loss: 0.0431 - val_accuracy: 0.7576 - val_loss: 1.2145\n",
      "Epoch 101/150\n",
      "\u001b[1m5/5\u001b[0m \u001b[32m━━━━━━━━━━━━━━━━━━━━\u001b[0m\u001b[37m\u001b[0m \u001b[1m1757s\u001b[0m 347s/step - accuracy: 0.9847 - loss: 0.0423 - val_accuracy: 0.7576 - val_loss: 1.2180\n",
      "Epoch 102/150\n",
      "\u001b[1m5/5\u001b[0m \u001b[32m━━━━━━━━━━━━━━━━━━━━\u001b[0m\u001b[37m\u001b[0m \u001b[1m1715s\u001b[0m 331s/step - accuracy: 0.9847 - loss: 0.0400 - val_accuracy: 0.7576 - val_loss: 1.2055\n",
      "Epoch 103/150\n",
      "\u001b[1m5/5\u001b[0m \u001b[32m━━━━━━━━━━━━━━━━━━━━\u001b[0m\u001b[37m\u001b[0m \u001b[1m1648s\u001b[0m 321s/step - accuracy: 0.9847 - loss: 0.0372 - val_accuracy: 0.7576 - val_loss: 1.1892\n",
      "Epoch 104/150\n",
      "\u001b[1m5/5\u001b[0m \u001b[32m━━━━━━━━━━━━━━━━━━━━\u001b[0m\u001b[37m\u001b[0m \u001b[1m1551s\u001b[0m 296s/step - accuracy: 0.9847 - loss: 0.0333 - val_accuracy: 0.7576 - val_loss: 1.1571\n",
      "Epoch 105/150\n",
      "\u001b[1m5/5\u001b[0m \u001b[32m━━━━━━━━━━━━━━━━━━━━\u001b[0m\u001b[37m\u001b[0m \u001b[1m1569s\u001b[0m 310s/step - accuracy: 0.9847 - loss: 0.0283 - val_accuracy: 0.7576 - val_loss: 1.1042\n",
      "Epoch 106/150\n",
      "\u001b[1m5/5\u001b[0m \u001b[32m━━━━━━━━━━━━━━━━━━━━\u001b[0m\u001b[37m\u001b[0m \u001b[1m1684s\u001b[0m 326s/step - accuracy: 0.9847 - loss: 0.0232 - val_accuracy: 0.7576 - val_loss: 1.1887\n",
      "Epoch 107/150\n",
      "\u001b[1m5/5\u001b[0m \u001b[32m━━━━━━━━━━━━━━━━━━━━\u001b[0m\u001b[37m\u001b[0m \u001b[1m1641s\u001b[0m 311s/step - accuracy: 0.9847 - loss: 0.0225 - val_accuracy: 0.7879 - val_loss: 1.0973\n",
      "Epoch 108/150\n",
      "\u001b[1m5/5\u001b[0m \u001b[32m━━━━━━━━━━━━━━━━━━━━\u001b[0m\u001b[37m\u001b[0m \u001b[1m1587s\u001b[0m 311s/step - accuracy: 0.9847 - loss: 0.0646 - val_accuracy: 0.7879 - val_loss: 0.9852\n",
      "Epoch 109/150\n",
      "\u001b[1m5/5\u001b[0m \u001b[32m━━━━━━━━━━━━━━━━━━━━\u001b[0m\u001b[37m\u001b[0m \u001b[1m1485s\u001b[0m 284s/step - accuracy: 0.9847 - loss: 0.0473 - val_accuracy: 0.8182 - val_loss: 0.8285\n",
      "Epoch 110/150\n",
      "\u001b[1m5/5\u001b[0m \u001b[32m━━━━━━━━━━━━━━━━━━━━\u001b[0m\u001b[37m\u001b[0m \u001b[1m1564s\u001b[0m 296s/step - accuracy: 0.9847 - loss: 0.0437 - val_accuracy: 0.8182 - val_loss: 1.0838\n",
      "Epoch 111/150\n",
      "\u001b[1m5/5\u001b[0m \u001b[32m━━━━━━━━━━━━━━━━━━━━\u001b[0m\u001b[37m\u001b[0m \u001b[1m1543s\u001b[0m 306s/step - accuracy: 0.9847 - loss: 0.0485 - val_accuracy: 0.8182 - val_loss: 0.8821\n",
      "Epoch 112/150\n",
      "\u001b[1m5/5\u001b[0m \u001b[32m━━━━━━━━━━━━━━━━━━━━\u001b[0m\u001b[37m\u001b[0m \u001b[1m1532s\u001b[0m 300s/step - accuracy: 0.9847 - loss: 0.0404 - val_accuracy: 0.8182 - val_loss: 0.9167\n",
      "Epoch 113/150\n",
      "\u001b[1m5/5\u001b[0m \u001b[32m━━━━━━━━━━━━━━━━━━━━\u001b[0m\u001b[37m\u001b[0m \u001b[1m1665s\u001b[0m 320s/step - accuracy: 0.9847 - loss: 0.0415 - val_accuracy: 0.7879 - val_loss: 1.0093\n",
      "Epoch 114/150\n",
      "\u001b[1m5/5\u001b[0m \u001b[32m━━━━━━━━━━━━━━━━━━━━\u001b[0m\u001b[37m\u001b[0m \u001b[1m1474s\u001b[0m 285s/step - accuracy: 0.9771 - loss: 0.0553 - val_accuracy: 0.7879 - val_loss: 1.0630\n",
      "Epoch 115/150\n",
      "\u001b[1m5/5\u001b[0m \u001b[32m━━━━━━━━━━━━━━━━━━━━\u001b[0m\u001b[37m\u001b[0m \u001b[1m1608s\u001b[0m 307s/step - accuracy: 0.9847 - loss: 0.0794 - val_accuracy: 0.7879 - val_loss: 1.1801\n",
      "Epoch 116/150\n",
      "\u001b[1m5/5\u001b[0m \u001b[32m━━━━━━━━━━━━━━━━━━━━\u001b[0m\u001b[37m\u001b[0m \u001b[1m1625s\u001b[0m 310s/step - accuracy: 0.9771 - loss: 0.0812 - val_accuracy: 0.7576 - val_loss: 1.1937\n",
      "Epoch 117/150\n",
      "\u001b[1m5/5\u001b[0m \u001b[32m━━━━━━━━━━━━━━━━━━━━\u001b[0m\u001b[37m\u001b[0m \u001b[1m1640s\u001b[0m 318s/step - accuracy: 0.9771 - loss: 0.0808 - val_accuracy: 0.7576 - val_loss: 1.1860\n",
      "Epoch 118/150\n",
      "\u001b[1m5/5\u001b[0m \u001b[32m━━━━━━━━━━━━━━━━━━━━\u001b[0m\u001b[37m\u001b[0m \u001b[1m1653s\u001b[0m 318s/step - accuracy: 0.9771 - loss: 0.0722 - val_accuracy: 0.7879 - val_loss: 1.1661\n",
      "Epoch 119/150\n",
      "\u001b[1m5/5\u001b[0m \u001b[32m━━━━━━━━━━━━━━━━━━━━\u001b[0m\u001b[37m\u001b[0m \u001b[1m1665s\u001b[0m 324s/step - accuracy: 0.9847 - loss: 0.0381 - val_accuracy: 0.7879 - val_loss: 1.1366\n",
      "Epoch 120/150\n",
      "\u001b[1m5/5\u001b[0m \u001b[32m━━━━━━━━━━━━━━━━━━━━\u001b[0m\u001b[37m\u001b[0m \u001b[1m1684s\u001b[0m 324s/step - accuracy: 0.9771 - loss: 0.0380 - val_accuracy: 0.7879 - val_loss: 1.1197\n",
      "Epoch 121/150\n",
      "\u001b[1m5/5\u001b[0m \u001b[32m━━━━━━━━━━━━━━━━━━━━\u001b[0m\u001b[37m\u001b[0m \u001b[1m1617s\u001b[0m 315s/step - accuracy: 0.9313 - loss: 0.1380 - val_accuracy: 0.7879 - val_loss: 1.1303\n",
      "Epoch 122/150\n",
      "\u001b[1m5/5\u001b[0m \u001b[32m━━━━━━━━━━━━━━━━━━━━\u001b[0m\u001b[37m\u001b[0m \u001b[1m1645s\u001b[0m 317s/step - accuracy: 0.9771 - loss: 0.0551 - val_accuracy: 0.7273 - val_loss: 1.2563\n",
      "Epoch 123/150\n",
      "\u001b[1m5/5\u001b[0m \u001b[32m━━━━━━━━━━━━━━━━━━━━\u001b[0m\u001b[37m\u001b[0m \u001b[1m1605s\u001b[0m 311s/step - accuracy: 0.9771 - loss: 0.0480 - val_accuracy: 0.7576 - val_loss: 1.3895\n",
      "Epoch 124/150\n",
      "\u001b[1m5/5\u001b[0m \u001b[32m━━━━━━━━━━━━━━━━━━━━\u001b[0m\u001b[37m\u001b[0m \u001b[1m1677s\u001b[0m 320s/step - accuracy: 0.9924 - loss: 0.0307 - val_accuracy: 0.7273 - val_loss: 1.4938\n",
      "Epoch 125/150\n",
      "\u001b[1m5/5\u001b[0m \u001b[32m━━━━━━━━━━━━━━━━━━━━\u001b[0m\u001b[37m\u001b[0m \u001b[1m1603s\u001b[0m 304s/step - accuracy: 0.9924 - loss: 0.0399 - val_accuracy: 0.7273 - val_loss: 1.4932\n",
      "Epoch 126/150\n",
      "\u001b[1m5/5\u001b[0m \u001b[32m━━━━━━━━━━━━━━━━━━━━\u001b[0m\u001b[37m\u001b[0m \u001b[1m1642s\u001b[0m 317s/step - accuracy: 0.9924 - loss: 0.0231 - val_accuracy: 0.7576 - val_loss: 1.4848\n",
      "Epoch 127/150\n",
      "\u001b[1m5/5\u001b[0m \u001b[32m━━━━━━━━━━━━━━━━━━━━\u001b[0m\u001b[37m\u001b[0m \u001b[1m1609s\u001b[0m 308s/step - accuracy: 1.0000 - loss: 0.0122 - val_accuracy: 0.7576 - val_loss: 1.4717\n",
      "Epoch 128/150\n",
      "\u001b[1m5/5\u001b[0m \u001b[32m━━━━━━━━━━━━━━━━━━━━\u001b[0m\u001b[37m\u001b[0m \u001b[1m1653s\u001b[0m 320s/step - accuracy: 0.9924 - loss: 0.0158 - val_accuracy: 0.7576 - val_loss: 1.4996\n",
      "Epoch 129/150\n",
      "\u001b[1m5/5\u001b[0m \u001b[32m━━━━━━━━━━━━━━━━━━━━\u001b[0m\u001b[37m\u001b[0m \u001b[1m1657s\u001b[0m 322s/step - accuracy: 1.0000 - loss: 0.0079 - val_accuracy: 0.7576 - val_loss: 1.5435\n",
      "Epoch 130/150\n",
      "\u001b[1m5/5\u001b[0m \u001b[32m━━━━━━━━━━━━━━━━━━━━\u001b[0m\u001b[37m\u001b[0m \u001b[1m1628s\u001b[0m 321s/step - accuracy: 1.0000 - loss: 0.0073 - val_accuracy: 0.7576 - val_loss: 1.5704\n",
      "Epoch 131/150\n",
      "\u001b[1m5/5\u001b[0m \u001b[32m━━━━━━━━━━━━━━━━━━━━\u001b[0m\u001b[37m\u001b[0m \u001b[1m1671s\u001b[0m 323s/step - accuracy: 1.0000 - loss: 0.0054 - val_accuracy: 0.7576 - val_loss: 1.5826\n",
      "Epoch 132/150\n",
      "\u001b[1m5/5\u001b[0m \u001b[32m━━━━━━━━━━━━━━━━━━━━\u001b[0m\u001b[37m\u001b[0m \u001b[1m1634s\u001b[0m 312s/step - accuracy: 1.0000 - loss: 0.0043 - val_accuracy: 0.7576 - val_loss: 1.5960\n",
      "Epoch 133/150\n",
      "\u001b[1m5/5\u001b[0m \u001b[32m━━━━━━━━━━━━━━━━━━━━\u001b[0m\u001b[37m\u001b[0m \u001b[1m1560s\u001b[0m 294s/step - accuracy: 1.0000 - loss: 0.0038 - val_accuracy: 0.7576 - val_loss: 1.6178\n",
      "Epoch 134/150\n",
      "\u001b[1m5/5\u001b[0m \u001b[32m━━━━━━━━━━━━━━━━━━━━\u001b[0m\u001b[37m\u001b[0m \u001b[1m1635s\u001b[0m 316s/step - accuracy: 1.0000 - loss: 0.0032 - val_accuracy: 0.7576 - val_loss: 1.6369\n",
      "Epoch 135/150\n",
      "\u001b[1m5/5\u001b[0m \u001b[32m━━━━━━━━━━━━━━━━━━━━\u001b[0m\u001b[37m\u001b[0m \u001b[1m1436s\u001b[0m 281s/step - accuracy: 1.0000 - loss: 0.0028 - val_accuracy: 0.7576 - val_loss: 1.6490\n",
      "Epoch 136/150\n",
      "\u001b[1m5/5\u001b[0m \u001b[32m━━━━━━━━━━━━━━━━━━━━\u001b[0m\u001b[37m\u001b[0m \u001b[1m1553s\u001b[0m 299s/step - accuracy: 1.0000 - loss: 0.0027 - val_accuracy: 0.7576 - val_loss: 1.6541\n",
      "Epoch 137/150\n",
      "\u001b[1m5/5\u001b[0m \u001b[32m━━━━━━━━━━━━━━━━━━━━\u001b[0m\u001b[37m\u001b[0m \u001b[1m1655s\u001b[0m 322s/step - accuracy: 1.0000 - loss: 0.0024 - val_accuracy: 0.7576 - val_loss: 1.6482\n",
      "Epoch 138/150\n",
      "\u001b[1m5/5\u001b[0m \u001b[32m━━━━━━━━━━━━━━━━━━━━\u001b[0m\u001b[37m\u001b[0m \u001b[1m1645s\u001b[0m 315s/step - accuracy: 1.0000 - loss: 0.0022 - val_accuracy: 0.7576 - val_loss: 1.6448\n",
      "Epoch 139/150\n",
      "\u001b[1m5/5\u001b[0m \u001b[32m━━━━━━━━━━━━━━━━━━━━\u001b[0m\u001b[37m\u001b[0m \u001b[1m1588s\u001b[0m 318s/step - accuracy: 1.0000 - loss: 0.0020 - val_accuracy: 0.7273 - val_loss: 1.6830\n",
      "Epoch 140/150\n",
      "\u001b[1m5/5\u001b[0m \u001b[32m━━━━━━━━━━━━━━━━━━━━\u001b[0m\u001b[37m\u001b[0m \u001b[1m1580s\u001b[0m 300s/step - accuracy: 1.0000 - loss: 0.0019 - val_accuracy: 0.7273 - val_loss: 1.6750\n",
      "Epoch 141/150\n",
      "\u001b[1m5/5\u001b[0m \u001b[32m━━━━━━━━━━━━━━━━━━━━\u001b[0m\u001b[37m\u001b[0m \u001b[1m1643s\u001b[0m 311s/step - accuracy: 1.0000 - loss: 0.0017 - val_accuracy: 0.7576 - val_loss: 1.6571\n",
      "Epoch 142/150\n",
      "\u001b[1m5/5\u001b[0m \u001b[32m━━━━━━━━━━━━━━━━━━━━\u001b[0m\u001b[37m\u001b[0m \u001b[1m1685s\u001b[0m 325s/step - accuracy: 1.0000 - loss: 0.0017 - val_accuracy: 0.7576 - val_loss: 1.6632\n",
      "Epoch 143/150\n",
      "\u001b[1m5/5\u001b[0m \u001b[32m━━━━━━━━━━━━━━━━━━━━\u001b[0m\u001b[37m\u001b[0m \u001b[1m1625s\u001b[0m 309s/step - accuracy: 1.0000 - loss: 0.0016 - val_accuracy: 0.7576 - val_loss: 1.6604\n",
      "Epoch 144/150\n",
      "\u001b[1m5/5\u001b[0m \u001b[32m━━━━━━━━━━━━━━━━━━━━\u001b[0m\u001b[37m\u001b[0m \u001b[1m1460s\u001b[0m 282s/step - accuracy: 1.0000 - loss: 0.0015 - val_accuracy: 0.7576 - val_loss: 1.6516\n",
      "Epoch 145/150\n",
      "\u001b[1m5/5\u001b[0m \u001b[32m━━━━━━━━━━━━━━━━━━━━\u001b[0m\u001b[37m\u001b[0m \u001b[1m1423s\u001b[0m 279s/step - accuracy: 1.0000 - loss: 0.0014 - val_accuracy: 0.7576 - val_loss: 1.6468\n",
      "Epoch 146/150\n",
      "\u001b[1m5/5\u001b[0m \u001b[32m━━━━━━━━━━━━━━━━━━━━\u001b[0m\u001b[37m\u001b[0m \u001b[1m1504s\u001b[0m 294s/step - accuracy: 1.0000 - loss: 0.0013 - val_accuracy: 0.7576 - val_loss: 1.6374\n",
      "Epoch 147/150\n",
      "\u001b[1m5/5\u001b[0m \u001b[32m━━━━━━━━━━━━━━━━━━━━\u001b[0m\u001b[37m\u001b[0m \u001b[1m1574s\u001b[0m 298s/step - accuracy: 1.0000 - loss: 0.0013 - val_accuracy: 0.7576 - val_loss: 1.6291\n",
      "Epoch 148/150\n",
      "\u001b[1m5/5\u001b[0m \u001b[32m━━━━━━━━━━━━━━━━━━━━\u001b[0m\u001b[37m\u001b[0m \u001b[1m1549s\u001b[0m 305s/step - accuracy: 1.0000 - loss: 0.0013 - val_accuracy: 0.7576 - val_loss: 1.6136\n",
      "Epoch 149/150\n",
      "\u001b[1m5/5\u001b[0m \u001b[32m━━━━━━━━━━━━━━━━━━━━\u001b[0m\u001b[37m\u001b[0m \u001b[1m1569s\u001b[0m 309s/step - accuracy: 1.0000 - loss: 0.0012 - val_accuracy: 0.7576 - val_loss: 1.6016\n",
      "Epoch 150/150\n",
      "\u001b[1m5/5\u001b[0m \u001b[32m━━━━━━━━━━━━━━━━━━━━\u001b[0m\u001b[37m\u001b[0m \u001b[1m1628s\u001b[0m 311s/step - accuracy: 1.0000 - loss: 0.0012 - val_accuracy: 0.7576 - val_loss: 1.5932\n"
     ]
    }
   ],
   "source": [
    "# Para sent_encoded com 3 valores, 0, 1 e 2.\n",
    "import tensorflow as tf\n",
    "\n",
    "model = tf.keras.Sequential([\n",
    "    tf.keras.layers.Embedding(token_count, 16),\n",
    "    tf.keras.layers.LSTM(64, return_sequences=True),\n",
    "    tf.keras.layers.LSTM(32),\n",
    "    tf.keras.layers.Dense(24, activation='relu'),\n",
    "    tf.keras.layers.Dense(3, activation='softmax')  # 3 classes\n",
    "])\n",
    "\n",
    "ckptname = '../../' + filename_root +  '_' + label_set+ '_' + str(num_epochs) + '_CHKP_drlee_ata.keras'\n",
    "# Define callback to save the best model based on validation loss\n",
    "checkpoint_cb = tf.keras.callbacks.ModelCheckpoint(\n",
    "    ckptname,\n",
    "    monitor=\"val_loss\",\n",
    "    save_best_only=True,\n",
    "    save_weights_only=False)\n",
    "model.compile(\n",
    "    optimizer='adam',\n",
    "    loss='sparse_categorical_crossentropy',  # For integer labels (0, 1, 2)\n",
    "    metrics=['accuracy']\n",
    ")\n",
    "\n",
    "#history = model.fit(x_train, y_train, validation_data=(x_test, y_test), epochs=10, batch_size=32,callbacks=[checkpoint_cb])\n",
    "history = model.fit(X_train, y_train, epochs=num_epochs, validation_split=val_split,callbacks=[checkpoint_cb])"
   ]
  },
  {
   "cell_type": "code",
   "execution_count": 11,
   "id": "5a88e783-e50f-482d-a36a-d007cfa961ea",
   "metadata": {},
   "outputs": [
    {
     "name": "stdout",
     "output_type": "stream",
     "text": [
      "../../sentimento_6m_sent_encoded_150_drlee_ata.keras\n"
     ]
    }
   ],
   "source": [
    "import keras\n",
    "model_filename = '../../' + filename_root +  '_' + label_set+'_' + str(num_epochs) + '_drlee_ata.keras'\n",
    "print(model_filename)\n",
    "keras.saving.save_model(model, model_filename)"
   ]
  },
  {
   "cell_type": "raw",
   "id": "96ae7a51-f0de-4351-a22c-bd69c8a25136",
   "metadata": {},
   "source": [
    "6. Visualizing Model Performance\n",
    "We can use Matplotlib to plot the training and validation accuracy over epochs."
   ]
  },
  {
   "cell_type": "code",
   "execution_count": 12,
   "id": "ef68a0a9-57bd-4340-88ea-ce75ad7907c2",
   "metadata": {},
   "outputs": [
    {
     "data": {
      "image/png": "[encoded data removed]",
      "text/plain": [
       "<Figure size 640x480 with 1 Axes>"
      ]
     },
     "metadata": {},
     "output_type": "display_data"
    }
   ],
   "source": [
    "import matplotlib.pyplot as plt\n",
    "\n",
    "plt.plot(history.history['accuracy'], label='Training Accuracy')\n",
    "plt.plot(history.history['val_accuracy'], label='Validation Accuracy')\n",
    "plt.xlabel('Epochs')\n",
    "plt.ylabel('Accuracy')\n",
    "plt.legend()\n",
    "plt.show()"
   ]
  },
  {
   "cell_type": "raw",
   "id": "f53852d4-43cb-4536-942b-11d3fd89ac26",
   "metadata": {},
   "source": [
    "7. Evaluating the Model\n",
    "Let’s evaluate our model on the test data to see how well it generalizes."
   ]
  },
  {
   "cell_type": "code",
   "execution_count": 14,
   "id": "e7074c74-d43f-4cb4-b176-143b1f54e489",
   "metadata": {},
   "outputs": [
    {
     "name": "stdout",
     "output_type": "stream",
     "text": [
      "\u001b[1m2/2\u001b[0m \u001b[32m━━━━━━━━━━━━━━━━━━━━\u001b[0m\u001b[37m\u001b[0m \u001b[1m6s\u001b[0m 2s/step - accuracy: 0.6905 - loss: 1.8659\n",
      "Test Accuracy: 0.69\n"
     ]
    }
   ],
   "source": [
    "test_loss, test_accuracy = model.evaluate(X_test, y_test)\n",
    "print(f'Test Accuracy: {test_accuracy:.2f}')"
   ]
  },
  {
   "cell_type": "raw",
   "id": "62b26f1f-16d6-4a8c-95f5-d5ef59e1e5a5",
   "metadata": {},
   "source": [
    "8. Making Predictions\n",
    "We can use our model to predict the sentiment of new movie reviews."
   ]
  },
  {
   "cell_type": "code",
   "execution_count": 20,
   "id": "0f7e7fbd-c237-4e94-93be-0bd1c0e756c3",
   "metadata": {},
   "outputs": [
    {
     "name": "stdout",
     "output_type": "stream",
     "text": [
      "\u001b[1m2/2\u001b[0m \u001b[32m━━━━━━━━━━━━━━━━━━━━\u001b[0m\u001b[37m\u001b[0m \u001b[1m6s\u001b[0m 2s/step\n",
      "[0 0 1 0 0 1 2 2 1 2 1 0 1 1 0 1 1 1 0 1 1 1 1 0 2 0 1 0 0 1 1 2 1 1 1 0 2\n",
      " 0 1 1 1 1]\n"
     ]
    }
   ],
   "source": [
    "\n",
    "\n",
    "predictions = model.predict(X_test)\n",
    "\n"
   ]
  },
  {
   "cell_type": "code",
   "execution_count": 21,
   "id": "122b604a-eeac-44e1-9797-251f6ea897e6",
   "metadata": {},
   "outputs": [],
   "source": [
    "y_pred = tf.argmax(predictions, axis=1).numpy() \n",
    "\n",
    "y_true = y_test"
   ]
  },
  {
   "cell_type": "code",
   "execution_count": 24,
   "id": "256681d6-6cd0-496b-a40b-7b0ed4765335",
   "metadata": {},
   "outputs": [
    {
     "data": {
      "image/png": "[encoded data removed]",
      "text/plain": [
       "<Figure size 800x600 with 2 Axes>"
      ]
     },
     "metadata": {},
     "output_type": "display_data"
    },
    {
     "name": "stdout",
     "output_type": "stream",
     "text": [
      "Confusion Matrix:\n",
      " [[ 8  3  1]\n",
      " [ 3 19  3]\n",
      " [ 2  1  2]]\n",
      "Classification Report:\n",
      "              precision    recall  f1-score   support\n",
      "\n",
      "      dovish       0.62      0.67      0.64        12\n",
      "     hawkisk       0.83      0.76      0.79        25\n",
      "     neutral       0.33      0.40      0.36         5\n",
      "\n",
      "    accuracy                           0.69        42\n",
      "   macro avg       0.59      0.61      0.60        42\n",
      "weighted avg       0.71      0.69      0.70        42\n",
      "\n"
     ]
    }
   ],
   "source": [
    "#0 = dovish\n",
    "#1 = hawkisk\n",
    "#2 = neutral\n",
    "\n",
    "from sklearn.metrics import confusion_matrix\n",
    "import seaborn as sns\n",
    "import matplotlib.pyplot as plt\n",
    "# Step 2: Generate confusion matrix\n",
    "cm = confusion_matrix(y_true, y_pred)\n",
    "\n",
    "# Step 3: Visualize the confusion matrix (optional)\n",
    "plt.figure(figsize=(8, 6))\n",
    "sns.heatmap(cm, annot=True, fmt='d', cmap='Grays', \n",
    "            xticklabels=['dovish', 'hawkisk', 'neutral'], \n",
    "            yticklabels=['dovish', 'hawkisk', 'neutral'])\n",
    "plt.xlabel('Predicted')\n",
    "plt.ylabel('True')\n",
    "plt.title('Confusion Matrix')\n",
    "plt.show()\n",
    "\n",
    "# Print the confusion matrix\n",
    "print(\"Confusion Matrix:\\n\", cm)\n",
    "from sklearn.metrics import classification_report\n",
    "# Define the labels\n",
    "labels = ['dovish', 'hawkisk', 'neutral']\n",
    "\n",
    "# Generate classification report\n",
    "report = classification_report(y_true, y_pred, target_names=labels)\n",
    "\n",
    "# Print the classification report\n",
    "print(\"Classification Report:\")\n",
    "print(report)"
   ]
  }
 ],
 "metadata": {
  "kernelspec": {
   "display_name": "Python 3 (ipykernel)",
   "language": "python",
   "name": "python3"
  },
  "language_info": {
   "codemirror_mode": {
    "name": "ipython",
    "version": 3
   },
   "file_extension": ".py",
   "mimetype": "text/x-python",
   "name": "python",
   "nbconvert_exporter": "python",
   "pygments_lexer": "ipython3",
   "version": "3.12.11"
  }
 },
 "nbformat": 4,
 "nbformat_minor": 5
}
