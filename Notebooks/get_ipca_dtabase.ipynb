{
 "cells": [
  {
   "cell_type": "code",
   "execution_count": 3,
   "id": "5cf7b354-2ab7-44cc-aa00-9f69588c497c",
   "metadata": {},
   "outputs": [
    {
     "name": "stdout",
     "output_type": "stream",
     "text": [
      "         data valor\n",
      "0  01/02/1980  4.62\n",
      "1  01/03/1980  6.04\n",
      "2  01/04/1980  5.29\n",
      "3  01/05/1980  5.70\n",
      "4  01/06/1980  5.31\n",
      "\n",
      "Dados salvos em 'ipca.csv'\n"
     ]
    }
   ],
   "source": [
    "import requests\n",
    "import pandas as pd\n",
    "from pandas import json_normalize\n",
    "\n",
    "# URL da API do Séries Temporais BACEN - IPCA\n",
    "url = 'https://api.bcb.gov.br/dados/serie/bcdata.sgs.433/dados?formato=json'\n",
    "\n",
    "response = requests.get(url)\n",
    "\n",
    "\n",
    "# Verificando se a requisição foi bem-sucedida\n",
    "if response.status_code == 200:\n",
    "    # Expande o resultado recorrente da API\n",
    "    json_data = response.json()\n",
    "    #print(json_data)\n",
    "    #data_list = json_data.get('', [])  \n",
    "    \n",
    "    # Converte para DF\n",
    "    df = pd.DataFrame(json_data)\n",
    "    print(df.head())\n",
    "    \n",
    "\n",
    "    \n",
    "   \n",
    "    df.to_csv(\"ipca.csv\", index=False)\n",
    "    print(\"\\nDados salvos em 'ipca.csv'\")\n",
    "else:\n",
    "    print(f\"Erro na requisição: {response.status_code} - {response.text}\")"
   ]
  }
 ],
 "metadata": {
  "kernelspec": {
   "display_name": "Python 3 (ipykernel)",
   "language": "python",
   "name": "python3"
  },
  "language_info": {
   "codemirror_mode": {
    "name": "ipython",
    "version": 3
   },
   "file_extension": ".py",
   "mimetype": "text/x-python",
   "name": "python",
   "nbconvert_exporter": "python",
   "pygments_lexer": "ipython3",
   "version": "3.9.18"
  }
 },
 "nbformat": 4,
 "nbformat_minor": 5
}
