{
 "cells": [
  {
   "cell_type": "code",
   "execution_count": 2,
   "id": "5cf7b354-2ab7-44cc-aa00-9f69588c497c",
   "metadata": {},
   "outputs": [
    {
     "name": "stdout",
     "output_type": "stream",
     "text": [
      "   nroReuniao dataReferencia dataPublicacao  \\\n",
      "0         272     2025-07-30     2025-08-05   \n",
      "1         271     2025-06-18     2025-06-24   \n",
      "2         270     2025-05-07     2025-05-13   \n",
      "3         269     2025-03-19     2025-03-25   \n",
      "4         268     2025-01-29     2025-02-04   \n",
      "\n",
      "                               titulo  \n",
      "0    272ª Reunião - 29-30 julho, 2025  \n",
      "1    271ª Reunião - 17-18 junho, 2025  \n",
      "2       270ª Reunião - 6-7 maio, 2025  \n",
      "3    269ª Reunião - 18-19 março, 2025  \n",
      "4  268ª Reunião - 28-29 janeiro, 2025  \n",
      "\n",
      "Dados salvos em 'ultimas_atas_comunicados.csv'\n"
     ]
    }
   ],
   "source": [
    "import requests\n",
    "import pandas as pd\n",
    "from pandas import json_normalize\n",
    "\n",
    "# URL da API do COPOM para pesquisa de ATAS disponíveis\n",
    "url = \"https://www.bcb.gov.br/api/servico/sitebcb/copom/atas?quantidade=5\"\n",
    "\n",
    "response = requests.get(url)\n",
    "\n",
    "\n",
    "# Verificando se a requisição foi bem-sucedida\n",
    "if response.status_code == 200:\n",
    "    # Expande o resultado recorrente da API\n",
    "    json_data = response.json()\n",
    "    data_list = json_data.get('conteudo', [])  \n",
    "    \n",
    "    # Converte para DF\n",
    "    df = pd.DataFrame(data_list)\n",
    "    print(df.head())\n",
    "    \n",
    "\n",
    "    \n",
    "   \n",
    "    df.to_csv(\"ultimas_atas_comunicados.csv\", index=False)\n",
    "    print(\"\\nDados salvos em 'ultimas_atas_comunicados.csv'\")\n",
    "else:\n",
    "    print(f\"Erro na requisição: {response.status_code} - {response.text}\")"
   ]
  },
  {
   "cell_type": "code",
   "execution_count": 6,
   "id": "73fc8cad-49c7-4c36-97d6-8e3b5b75c527",
   "metadata": {},
   "outputs": [
    {
     "name": "stdout",
     "output_type": "stream",
     "text": [
      "   nroReuniao dataReferencia dataPublicacao                            titulo  \\\n",
      "0         272     2025-07-30     2025-08-05  272ª Reunião - 29-30 julho, 2025   \n",
      "\n",
      "                                           urlPdfAta  \\\n",
      "0  https://www.bcb.gov.br/content/copom/atascopom...   \n",
      "\n",
      "                                            textoAta  \n",
      "0  <div id=\"atacompleta\"><div id=\"ataconteudo\"><h...  \n",
      "\n",
      "Dados salvos em 'conteudo_ata_272.csv'\n"
     ]
    }
   ],
   "source": [
    "# URL da API do COPOM para recuperação de ATA específica\n",
    "ata_url = \"https://www.bcb.gov.br/api/servico/sitebcb/copom/atas_detalhes?nro_reuniao=272\"\n",
    "response = requests.get(ata_url)\n",
    "\n",
    "\n",
    "# Verificando se a requisição foi bem-sucedida\n",
    "if response.status_code == 200:\n",
    "    # Expande o resultado recorrente da API\n",
    "    json_data = response.json()\n",
    "    ata_data_list = json_data.get('conteudo', [])  \n",
    "    \n",
    "    # Converte para DF\n",
    "    df_ata = pd.DataFrame(ata_data_list)\n",
    "    print(df_ata.head())\n",
    "    \n",
    "\n",
    "\n",
    "   \n",
    "    df_ata.to_csv(\"conteudo_ata_272.csv\", index=False)\n",
    "    print(\"\\nDados salvos em 'conteudo_ata_272.csv'\")\n",
    "else:\n",
    "    print(f\"Erro na requisição: {response.status_code} - {response.text}\")"
   ]
  },
  {
   "cell_type": "code",
   "execution_count": 7,
   "id": "baa7f979-b9ad-48b0-9ff5-d050751cff46",
   "metadata": {},
   "outputs": [
    {
     "name": "stdout",
     "output_type": "stream",
     "text": [
      "   nro_reuniao dataReferencia                                    titulo  \\\n",
      "0          272     2025-07-30  Copom mantém a taxa Selic em 15,00% a.a.   \n",
      "\n",
      "                                     textoComunicado  \n",
      "0  <div class=\"ExternalClass1BE7096A76144A1BB7BCE...  \n",
      "\n",
      "Dados salvos em 'conteudo_com_272.csv'\n"
     ]
    }
   ],
   "source": [
    "# URL da API do COPOM para recuperação de COMUNICADO específico\n",
    "ata_url = \"https://www.bcb.gov.br/api/servico/sitebcb/copom/comunicados_detalhes?nro_reuniao=272\"\n",
    "response = requests.get(ata_url)\n",
    "\n",
    "\n",
    "# Verificando se a requisição foi bem-sucedida\n",
    "if response.status_code == 200:\n",
    "    # Expande o resultado recorrente da API\n",
    "    json_data = response.json()\n",
    "    com_data_list = json_data.get('conteudo', [])  \n",
    "    \n",
    "    # Converte para DF\n",
    "    df_com = pd.DataFrame(com_data_list)\n",
    "    print(df_com.head())\n",
    "    \n",
    "\n",
    "    df_com.to_csv(\"conteudo_com_272.csv\", index=False)\n",
    "    print(\"\\nDados salvos em 'conteudo_com_272.csv'\")\n",
    "else:\n",
    "    print(f\"Erro na requisição: {response.status_code} - {response.text}\")"
   ]
  }
 ],
 "metadata": {
  "kernelspec": {
   "display_name": "Python 3 (ipykernel)",
   "language": "python",
   "name": "python3"
  },
  "language_info": {
   "codemirror_mode": {
    "name": "ipython",
    "version": 3
   },
   "file_extension": ".py",
   "mimetype": "text/x-python",
   "name": "python",
   "nbconvert_exporter": "python",
   "pygments_lexer": "ipython3",
   "version": "3.9.18"
  }
 },
 "nbformat": 4,
 "nbformat_minor": 5
}
