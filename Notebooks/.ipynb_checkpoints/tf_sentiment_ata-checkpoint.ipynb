{
 "cells": [
  {
   "cell_type": "code",
   "execution_count": 2,
   "id": "098215de-fc92-4574-929c-7b69193563cf",
   "metadata": {},
   "outputs": [],
   "source": [
    "import pandas as pd\n",
    "import numpy"
   ]
  },
  {
   "cell_type": "code",
   "execution_count": 14,
   "id": "ed23d139-bdb0-4887-ad9f-fdf06c013785",
   "metadata": {},
   "outputs": [
    {
     "name": "stdout",
     "output_type": "stream",
     "text": [
      "        Data                                              Texto  Selic  IPCA  \\\n",
      "0 1999-06-23  Sumário Preços e Nível de Atividade Agregados ...   22.0  3.32   \n",
      "1 1999-07-28  Sumário Preços e nível de atividade Agregados ...   21.0  4.57   \n",
      "2 1999-09-01  Sumário Demanda e oferta agregadas Preços Agre...   19.5  5.69   \n",
      "3 1999-09-22  Sumário Demanda e oferta agregadas Ambiente ex...   19.5  6.25   \n",
      "4 1999-10-06  Sumário Demanda e oferta agregadas Ambiente Ex...   19.0  7.50   \n",
      "\n",
      "   Selic (6m) Sentmento  \n",
      "0        19.0    dovish  \n",
      "1        19.0    dovish  \n",
      "2        19.0    dovish  \n",
      "3        19.0    dovish  \n",
      "4        18.5    dovish  \n",
      "          Data                                              Texto  Selic  \\\n",
      "231 2024-12-11  A) Atualização da conjuntura econômica e do ce...  11.25   \n",
      "232 2025-01-29  A) Atualização da conjuntura econômica e do ce...  12.25   \n",
      "233 2025-03-19  A) Atualização da conjuntura econômica e do ce...  13.25   \n",
      "234 2025-05-07  A) Atualização da conjuntura econômica e do ce...  14.25   \n",
      "235 2025-06-18  A) Atualização da conjuntura econômica e do ce...  14.75   \n",
      "236 2025-07-30  A) Atualização da conjuntura econômica e do ce...  15.00   \n",
      "237 2025-09-17  A) Atualização da conjuntura econômica e do ce...  15.00   \n",
      "\n",
      "     IPCA  Selic (6m) Sentmento  \n",
      "231  4.83       14.75   hawkish  \n",
      "232  4.56       15.00   hawkish  \n",
      "233  5.48       15.00   hawkish  \n",
      "234  5.32       15.00   hawkish  \n",
      "235  5.35       15.00   hawkish  \n",
      "236  5.23       15.00   neutral  \n",
      "237  5.13       15.00   neutral  \n",
      "238\n"
     ]
    }
   ],
   "source": [
    "data = pd.read_pickle('../dados/df_ata_sentimento.pkl')\n",
    "data.drop(data.tail(4).index,inplace=True)\n",
    "print(data.head())\n",
    "print(data.tail(4))\n",
    "print(len(data))\n"
   ]
  },
  {
   "cell_type": "markdown",
   "id": "fc25794d-e0e8-4e24-bd4b-df255e5dfe00",
   "metadata": {},
   "source": [
    "########------>>>>>>   Rever codigo de calculo de sentimento/ipca 6m, deveriam haver valores nulos.\n",
    "########------>>>>>>   Aqui as 4 ultimas kinhas com selic 6m repetida foram removidas\n",
    "\n",
    "USAR # Copy values from 2 rows ahead into a new column\n",
    "n = 2\n",
    "df['A_from_n_rows_ahead'] = df['A'].shift(-n)"
   ]
  },
  {
   "cell_type": "code",
   "execution_count": 3,
   "id": "f224228b-73e5-44e8-a6f2-477b209a786e",
   "metadata": {},
   "outputs": [],
   "source": [
    "import sys\n",
    "\n",
    "assert sys.version_info >= (3, 7)"
   ]
  },
  {
   "cell_type": "code",
   "execution_count": 4,
   "id": "8d586089-abc4-40b1-94be-f3541e10ca1f",
   "metadata": {},
   "outputs": [],
   "source": [
    "from packaging import version\n",
    "import sklearn\n",
    "\n",
    "assert version.parse(sklearn.__version__) >= version.parse(\"1.0.1\")"
   ]
  },
  {
   "cell_type": "code",
   "execution_count": 5,
   "id": "e55842c4-0d7f-4e06-ac77-0581d13fa847",
   "metadata": {},
   "outputs": [],
   "source": [
    "import tensorflow as tf\n",
    "\n",
    "assert version.parse(tf.__version__) >= version.parse(\"2.8.0\")"
   ]
  },
  {
   "cell_type": "code",
   "execution_count": 33,
   "id": "0fc1a4db-8ef5-4b67-9817-93f6734c7837",
   "metadata": {},
   "outputs": [
    {
     "name": "stdout",
     "output_type": "stream",
     "text": [
      "[[1.442]\n",
      " [1.687]\n",
      " [1.621]\n",
      " ...\n",
      " [0.68 ]\n",
      " [0.613]\n",
      " [1.97 ]]\n"
     ]
    }
   ],
   "source": [
    "# extra code – fetches, splits and normalizes the California housing dataset\n",
    "\n",
    "from sklearn.datasets import fetch_california_housing\n",
    "from sklearn.model_selection import train_test_split\n",
    "\n",
    "\n",
    "\n",
    "housing = fetch_california_housing()\n",
    "\n",
    "\n",
    "X_train_full, X_test, y_train_full, y_test = train_test_split(\n",
    "    housing.data, housing.target.reshape(-1, 1), random_state=42)\n",
    "X_train, X_valid, y_train, y_valid = train_test_split(\n",
    "    X_train_full, y_train_full, random_state=42)\n",
    "\n"
   ]
  }
 ],
 "metadata": {
  "kernelspec": {
   "display_name": "Python 3 (ipykernel)",
   "language": "python",
   "name": "python3"
  },
  "language_info": {
   "codemirror_mode": {
    "name": "ipython",
    "version": 3
   },
   "file_extension": ".py",
   "mimetype": "text/x-python",
   "name": "python",
   "nbconvert_exporter": "python",
   "pygments_lexer": "ipython3",
   "version": "3.9.23"
  }
 },
 "nbformat": 4,
 "nbformat_minor": 5
}
