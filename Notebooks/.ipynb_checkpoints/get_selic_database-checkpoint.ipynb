{
 "cells": [
  {
   "cell_type": "code",
   "execution_count": 4,
   "id": "5cf7b354-2ab7-44cc-aa00-9f69588c497c",
   "metadata": {},
   "outputs": [
    {
     "name": "stdout",
     "output_type": "stream",
     "text": [
      "         data  valor\n",
      "0  01/01/2016  14.25\n",
      "1  02/01/2016  14.25\n",
      "2  03/01/2016  14.25\n",
      "3  04/01/2016  14.25\n",
      "4  05/01/2016  14.25\n",
      "\n",
      "Dados salvos em 'selic.csv'\n"
     ]
    }
   ],
   "source": [
    "import requests\n",
    "import pandas as pd\n",
    "from pandas import json_normalize\n",
    "\n",
    "# URL da API do Séries Temporais BACEN - SELIC\n",
    "url = 'https://api.bcb.gov.br/dados/serie/bcdata.sgs.432/dados?formato=json&dataInicial=01/01/2016&dataFinal=31/12/2025'\n",
    "\n",
    "response = requests.get(url)\n",
    "\n",
    "\n",
    "# Verificando se a requisição foi bem-sucedida\n",
    "if response.status_code == 200:\n",
    "    # Expande o resultado recorrente da API\n",
    "    json_data = response.json()\n",
    "    #print(json_data)\n",
    "    #data_list = json_data.get('', [])  \n",
    "    \n",
    "    # Converte para DF\n",
    "    df = pd.DataFrame(json_data)\n",
    "    print(df.head())\n",
    "    \n",
    "\n",
    "    \n",
    "   \n",
    "    df.to_csv(\"selic.csv\", index=False)\n",
    "    print(\"\\nDados salvos em 'selic.csv'\")\n",
    "else:\n",
    "    print(f\"Erro na requisição: {response.status_code} - {response.text}\")"
   ]
  }
 ],
 "metadata": {
  "kernelspec": {
   "display_name": "Python 3 (ipykernel)",
   "language": "python",
   "name": "python3"
  },
  "language_info": {
   "codemirror_mode": {
    "name": "ipython",
    "version": 3
   },
   "file_extension": ".py",
   "mimetype": "text/x-python",
   "name": "python",
   "nbconvert_exporter": "python",
   "pygments_lexer": "ipython3",
   "version": "3.9.18"
  }
 },
 "nbformat": 4,
 "nbformat_minor": 5
}
